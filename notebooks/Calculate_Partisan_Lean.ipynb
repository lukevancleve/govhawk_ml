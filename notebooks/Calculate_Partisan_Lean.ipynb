{
 "cells": [
  {
   "cell_type": "markdown",
   "metadata": {},
   "source": [
    "# Calculate Partisan Lean for each legislative session"
   ]
  },
  {
   "cell_type": "code",
   "execution_count": 7,
   "metadata": {},
   "outputs": [],
   "source": [
    "import pandas as pd\n",
    "import numpy as np"
   ]
  },
  {
   "cell_type": "code",
   "execution_count": 8,
   "metadata": {},
   "outputs": [
    {
     "data": {
      "text/plain": [
       "(247565, 17)"
      ]
     },
     "execution_count": 8,
     "metadata": {},
     "output_type": "execute_result"
    }
   ],
   "source": [
    "bills =  pd.read_csv(\"../references/external/bill.csv\", sep=\";\", encoding=\"latin1\", parse_dates=True).rename(columns={'id': 'bill_id'})\n",
    "bv = pd.read_csv(\"../references/external/bill_version.csv\", sep=\";\", encoding=\"latin1\", parse_dates=True)\n",
    "bills.shape"
   ]
  },
  {
   "cell_type": "code",
   "execution_count": 9,
   "metadata": {},
   "outputs": [],
   "source": [
    "#bill= bills.merge(bv['bill_id'], on = \"bill_id\")\n",
    "#bills.shape"
   ]
  },
  {
   "cell_type": "code",
   "execution_count": 11,
   "metadata": {},
   "outputs": [],
   "source": [
    "sessions =  pd.read_csv(\"../references/external/session.csv\", sep=\";\", encoding=\"latin1\", parse_dates=True)\n",
    "divs =  pd.read_csv(\"../references/external/division.csv\", sep=\";\", encoding=\"latin1\", parse_dates=True)\n",
    "votes =  pd.read_csv(\"../references/external/vote.csv\", sep=\";\", encoding=\"latin1\", parse_dates=True)\n",
    "bill_leg_vote =  pd.read_csv(\"../references/external/bill_legislator_vote.csv\", sep=\";\", encoding=\"latin1\", parse_dates=True)\n",
    "vote_rec_type =  pd.read_csv(\"../references/external/vote_recorded_type.csv\", sep=\";\", encoding=\"latin1\", parse_dates=True)\n"
   ]
  },
  {
   "cell_type": "code",
   "execution_count": 12,
   "metadata": {},
   "outputs": [],
   "source": [
    "#### Calculate some derived tables:"
   ]
  },
  {
   "cell_type": "code",
   "execution_count": 13,
   "metadata": {},
   "outputs": [],
   "source": [
    "# Remove missing values\n",
    "bills = bills[~bills['chamber_id'].isna()]\n",
    "bills.head()\n",
    "bills['chamber_id'] = bills['chamber_id'].astype(int)\n",
    "bills['sc_id'] = bills['session_id'].astype(str) + \"-\" + bills['chamber_id'].astype(str)"
   ]
  },
  {
   "cell_type": "code",
   "execution_count": 14,
   "metadata": {},
   "outputs": [],
   "source": [
    "bills.loc[bills['signed'].isna(), 'signed'] = 0\n",
    "bills.loc[bills['signed'] != 0, 'signed'] = 1\n",
    "bills['signed'] = bills.signed.astype(int)\n",
    "\n",
    "bills.loc[bills['passed_lower'].isna(), 'passed_lower'] = 0\n",
    "bills.loc[bills['passed_lower'] != 0, 'passed_lower'] = 1\n",
    "bills['passed_lower'] = bills.passed_lower.astype(int)\n",
    "\n",
    "bills.loc[bills['passed_upper'].isna(), 'passed_upper'] = 0\n",
    "bills.loc[bills['passed_upper'] != 0, 'passed_upper'] = 1\n",
    "bills['passed_upper'] = bills.passed_upper.astype(int)\n",
    "#\n"
   ]
  },
  {
   "cell_type": "code",
   "execution_count": 15,
   "metadata": {},
   "outputs": [
    {
     "data": {
      "text/plain": [
       "0.12801538188104894"
      ]
     },
     "execution_count": 15,
     "metadata": {},
     "output_type": "execute_result"
    }
   ],
   "source": [
    "np.mean(bills.signed)"
   ]
  },
  {
   "cell_type": "code",
   "execution_count": 16,
   "metadata": {},
   "outputs": [],
   "source": [
    "passage_percentage = bills[['signed', 'sc_id']].groupby('sc_id').agg(['mean', 'count']).reset_index()\n",
    "passage_percentage.columns = ['sc_id', 'mean', 'count']\n",
    "passage_percentage.to_csv('passage_percentage.csv', index=False)"
   ]
  },
  {
   "cell_type": "code",
   "execution_count": 17,
   "metadata": {},
   "outputs": [
    {
     "data": {
      "text/html": [
       "<div>\n",
       "<style scoped>\n",
       "    .dataframe tbody tr th:only-of-type {\n",
       "        vertical-align: middle;\n",
       "    }\n",
       "\n",
       "    .dataframe tbody tr th {\n",
       "        vertical-align: top;\n",
       "    }\n",
       "\n",
       "    .dataframe thead th {\n",
       "        text-align: right;\n",
       "    }\n",
       "</style>\n",
       "<table border=\"1\" class=\"dataframe\">\n",
       "  <thead>\n",
       "    <tr style=\"text-align: right;\">\n",
       "      <th></th>\n",
       "      <th>sc_id</th>\n",
       "      <th>mean</th>\n",
       "      <th>count</th>\n",
       "    </tr>\n",
       "  </thead>\n",
       "  <tbody>\n",
       "    <tr>\n",
       "      <th>0</th>\n",
       "      <td>436-1</td>\n",
       "      <td>0.000000</td>\n",
       "      <td>26</td>\n",
       "    </tr>\n",
       "    <tr>\n",
       "      <th>1</th>\n",
       "      <td>469-2</td>\n",
       "      <td>0.000000</td>\n",
       "      <td>4</td>\n",
       "    </tr>\n",
       "    <tr>\n",
       "      <th>2</th>\n",
       "      <td>475-1</td>\n",
       "      <td>0.064026</td>\n",
       "      <td>2171</td>\n",
       "    </tr>\n",
       "    <tr>\n",
       "      <th>3</th>\n",
       "      <td>475-2</td>\n",
       "      <td>0.054402</td>\n",
       "      <td>2408</td>\n",
       "    </tr>\n",
       "    <tr>\n",
       "      <th>4</th>\n",
       "      <td>520-1</td>\n",
       "      <td>0.106355</td>\n",
       "      <td>1542</td>\n",
       "    </tr>\n",
       "  </tbody>\n",
       "</table>\n",
       "</div>"
      ],
      "text/plain": [
       "   sc_id      mean  count\n",
       "0  436-1  0.000000     26\n",
       "1  469-2  0.000000      4\n",
       "2  475-1  0.064026   2171\n",
       "3  475-2  0.054402   2408\n",
       "4  520-1  0.106355   1542"
      ]
     },
     "execution_count": 17,
     "metadata": {},
     "output_type": "execute_result"
    }
   ],
   "source": [
    "passage_percentage.head()"
   ]
  },
  {
   "cell_type": "code",
   "execution_count": 18,
   "metadata": {},
   "outputs": [
    {
     "data": {
      "text/plain": [
       "247564"
      ]
     },
     "execution_count": 18,
     "metadata": {},
     "output_type": "execute_result"
    }
   ],
   "source": [
    "sum(passage_percentage['count'])"
   ]
  },
  {
   "cell_type": "code",
   "execution_count": 19,
   "metadata": {},
   "outputs": [],
   "source": [
    "unique_bills = pd.DataFrame(bv['bill_id'].unique(), columns=['bill_id'])\n",
    "#sessions = sessions.merge(divs.rename(columns={'id':\"division_id\"}), on=\"division_id\", how='left')\n",
    "sessions = sessions.rename(columns={'id':'session_id'})\n",
    "votes2 = votes.merge(sessions, on = ['session_id', 'division_id'], how='left')\n",
    "votes2 = votes2[['id', 'division_id', 'session_id', 'bill_id', \"chamber_id\", 'yes', 'no', 'other']]"
   ]
  },
  {
   "cell_type": "code",
   "execution_count": 20,
   "metadata": {},
   "outputs": [
    {
     "data": {
      "text/html": [
       "<div>\n",
       "<style scoped>\n",
       "    .dataframe tbody tr th:only-of-type {\n",
       "        vertical-align: middle;\n",
       "    }\n",
       "\n",
       "    .dataframe tbody tr th {\n",
       "        vertical-align: top;\n",
       "    }\n",
       "\n",
       "    .dataframe thead th {\n",
       "        text-align: right;\n",
       "    }\n",
       "</style>\n",
       "<table border=\"1\" class=\"dataframe\">\n",
       "  <thead>\n",
       "    <tr style=\"text-align: right;\">\n",
       "      <th></th>\n",
       "      <th>id</th>\n",
       "      <th>division_id</th>\n",
       "      <th>session_id</th>\n",
       "      <th>bill_id</th>\n",
       "      <th>chamber_id</th>\n",
       "      <th>yes</th>\n",
       "      <th>no</th>\n",
       "      <th>other</th>\n",
       "    </tr>\n",
       "  </thead>\n",
       "  <tbody>\n",
       "    <tr>\n",
       "      <th>0</th>\n",
       "      <td>1</td>\n",
       "      <td>1421.0</td>\n",
       "      <td>1</td>\n",
       "      <td>6</td>\n",
       "      <td>1</td>\n",
       "      <td>21</td>\n",
       "      <td>1</td>\n",
       "      <td>13.0</td>\n",
       "    </tr>\n",
       "    <tr>\n",
       "      <th>1</th>\n",
       "      <td>2</td>\n",
       "      <td>1421.0</td>\n",
       "      <td>1</td>\n",
       "      <td>6</td>\n",
       "      <td>2</td>\n",
       "      <td>64</td>\n",
       "      <td>2</td>\n",
       "      <td>38.0</td>\n",
       "    </tr>\n",
       "    <tr>\n",
       "      <th>2</th>\n",
       "      <td>3</td>\n",
       "      <td>1421.0</td>\n",
       "      <td>1</td>\n",
       "      <td>7</td>\n",
       "      <td>1</td>\n",
       "      <td>27</td>\n",
       "      <td>0</td>\n",
       "      <td>8.0</td>\n",
       "    </tr>\n",
       "    <tr>\n",
       "      <th>3</th>\n",
       "      <td>4</td>\n",
       "      <td>1421.0</td>\n",
       "      <td>1</td>\n",
       "      <td>7</td>\n",
       "      <td>1</td>\n",
       "      <td>25</td>\n",
       "      <td>0</td>\n",
       "      <td>10.0</td>\n",
       "    </tr>\n",
       "    <tr>\n",
       "      <th>4</th>\n",
       "      <td>5</td>\n",
       "      <td>1421.0</td>\n",
       "      <td>1</td>\n",
       "      <td>7</td>\n",
       "      <td>1</td>\n",
       "      <td>22</td>\n",
       "      <td>0</td>\n",
       "      <td>13.0</td>\n",
       "    </tr>\n",
       "  </tbody>\n",
       "</table>\n",
       "</div>"
      ],
      "text/plain": [
       "   id  division_id  session_id  bill_id  chamber_id  yes  no  other\n",
       "0   1       1421.0           1        6           1   21   1   13.0\n",
       "1   2       1421.0           1        6           2   64   2   38.0\n",
       "2   3       1421.0           1        7           1   27   0    8.0\n",
       "3   4       1421.0           1        7           1   25   0   10.0\n",
       "4   5       1421.0           1        7           1   22   0   13.0"
      ]
     },
     "execution_count": 20,
     "metadata": {},
     "output_type": "execute_result"
    }
   ],
   "source": [
    "votes2.head()"
   ]
  },
  {
   "cell_type": "markdown",
   "metadata": {},
   "source": [
    "#### Derive liberal/conservate votes from person, party, specific bill vote data\n"
   ]
  },
  {
   "cell_type": "code",
   "execution_count": 22,
   "metadata": {},
   "outputs": [],
   "source": [
    "party =  pd.read_csv(\"../references/external/party.csv\", sep=\";\", encoding=\"latin1\", parse_dates=True)\n",
    "party = party.rename(columns={\"id\": \"party_id\"})\n",
    "persons =  pd.read_csv(\"../references/external/person.csv\", sep=\";\", encoding=\"latin1\", parse_dates=True)"
   ]
  },
  {
   "cell_type": "code",
   "execution_count": 23,
   "metadata": {},
   "outputs": [],
   "source": [
    "# Marking all as liberal except \"Republicans\", Republicans are a majority of persons\n",
    "party[\"is_liberal\"] = 1\n",
    "conservatives = set([\"Republican\", \"Republican \\n\"])\n",
    "mask = party[\"name\"].isin(conservatives)\n",
    "party.loc[mask, \"is_liberal\"] = 0\n",
    "party.head()\n",
    "persons= persons.merge(party[[\"party_id\", \"is_liberal\"]], left_on = \"party_id\", right_on = \"party_id\")\n",
    "persons = persons.rename(columns = {\"id\": \"person_id\"})"
   ]
  },
  {
   "cell_type": "code",
   "execution_count": 24,
   "metadata": {},
   "outputs": [],
   "source": [
    "vote_rec_type = vote_rec_type.rename(columns={\"id\": \"vote_recorded_type_id\"})\n",
    "blv = bill_leg_vote.merge(vote_rec_type, left_on = 'vote_recorded_type_id', right_on = \"vote_recorded_type_id\")\n",
    "blv = blv.merge(persons[[\"person_id\", \"is_liberal\"]], on = \"person_id\")"
   ]
  },
  {
   "cell_type": "code",
   "execution_count": 25,
   "metadata": {},
   "outputs": [
    {
     "data": {
      "text/html": [
       "<div>\n",
       "<style scoped>\n",
       "    .dataframe tbody tr th:only-of-type {\n",
       "        vertical-align: middle;\n",
       "    }\n",
       "\n",
       "    .dataframe tbody tr th {\n",
       "        vertical-align: top;\n",
       "    }\n",
       "\n",
       "    .dataframe thead th {\n",
       "        text-align: right;\n",
       "    }\n",
       "</style>\n",
       "<table border=\"1\" class=\"dataframe\">\n",
       "  <thead>\n",
       "    <tr style=\"text-align: right;\">\n",
       "      <th></th>\n",
       "      <th>id</th>\n",
       "      <th>bill_id</th>\n",
       "      <th>vote_id</th>\n",
       "      <th>person_id</th>\n",
       "      <th>vote_recorded_type_id</th>\n",
       "      <th>name</th>\n",
       "      <th>is_liberal</th>\n",
       "    </tr>\n",
       "  </thead>\n",
       "  <tbody>\n",
       "    <tr>\n",
       "      <th>0</th>\n",
       "      <td>1</td>\n",
       "      <td>349728</td>\n",
       "      <td>97964</td>\n",
       "      <td>4018</td>\n",
       "      <td>2</td>\n",
       "      <td>yes</td>\n",
       "      <td>0</td>\n",
       "    </tr>\n",
       "    <tr>\n",
       "      <th>1</th>\n",
       "      <td>35</td>\n",
       "      <td>349731</td>\n",
       "      <td>97968</td>\n",
       "      <td>4018</td>\n",
       "      <td>2</td>\n",
       "      <td>yes</td>\n",
       "      <td>0</td>\n",
       "    </tr>\n",
       "    <tr>\n",
       "      <th>2</th>\n",
       "      <td>69</td>\n",
       "      <td>349722</td>\n",
       "      <td>97960</td>\n",
       "      <td>4018</td>\n",
       "      <td>2</td>\n",
       "      <td>yes</td>\n",
       "      <td>0</td>\n",
       "    </tr>\n",
       "    <tr>\n",
       "      <th>3</th>\n",
       "      <td>103</td>\n",
       "      <td>349876</td>\n",
       "      <td>98058</td>\n",
       "      <td>4018</td>\n",
       "      <td>2</td>\n",
       "      <td>yes</td>\n",
       "      <td>0</td>\n",
       "    </tr>\n",
       "    <tr>\n",
       "      <th>4</th>\n",
       "      <td>137</td>\n",
       "      <td>350008</td>\n",
       "      <td>98120</td>\n",
       "      <td>4018</td>\n",
       "      <td>2</td>\n",
       "      <td>yes</td>\n",
       "      <td>0</td>\n",
       "    </tr>\n",
       "  </tbody>\n",
       "</table>\n",
       "</div>"
      ],
      "text/plain": [
       "    id  bill_id  vote_id  person_id  vote_recorded_type_id name  is_liberal\n",
       "0    1   349728    97964       4018                      2  yes           0\n",
       "1   35   349731    97968       4018                      2  yes           0\n",
       "2   69   349722    97960       4018                      2  yes           0\n",
       "3  103   349876    98058       4018                      2  yes           0\n",
       "4  137   350008    98120       4018                      2  yes           0"
      ]
     },
     "execution_count": 25,
     "metadata": {},
     "output_type": "execute_result"
    }
   ],
   "source": [
    "# Table with each vote and whether the person is tagged as liberal or not:\n",
    "blv.head()"
   ]
  },
  {
   "cell_type": "code",
   "execution_count": 26,
   "metadata": {},
   "outputs": [
    {
     "data": {
      "text/html": [
       "<div>\n",
       "<style scoped>\n",
       "    .dataframe tbody tr th:only-of-type {\n",
       "        vertical-align: middle;\n",
       "    }\n",
       "\n",
       "    .dataframe tbody tr th {\n",
       "        vertical-align: top;\n",
       "    }\n",
       "\n",
       "    .dataframe thead th {\n",
       "        text-align: right;\n",
       "    }\n",
       "</style>\n",
       "<table border=\"1\" class=\"dataframe\">\n",
       "  <thead>\n",
       "    <tr style=\"text-align: right;\">\n",
       "      <th></th>\n",
       "      <th>bill_id</th>\n",
       "      <th>vote_id</th>\n",
       "      <th>n_lib_votes</th>\n",
       "      <th>total_votes</th>\n",
       "    </tr>\n",
       "  </thead>\n",
       "  <tbody>\n",
       "    <tr>\n",
       "      <th>0</th>\n",
       "      <td>4493</td>\n",
       "      <td>209038</td>\n",
       "      <td>15</td>\n",
       "      <td>29</td>\n",
       "    </tr>\n",
       "    <tr>\n",
       "      <th>1</th>\n",
       "      <td>4493</td>\n",
       "      <td>209041</td>\n",
       "      <td>5</td>\n",
       "      <td>16</td>\n",
       "    </tr>\n",
       "    <tr>\n",
       "      <th>2</th>\n",
       "      <td>4493</td>\n",
       "      <td>209042</td>\n",
       "      <td>5</td>\n",
       "      <td>16</td>\n",
       "    </tr>\n",
       "    <tr>\n",
       "      <th>3</th>\n",
       "      <td>4494</td>\n",
       "      <td>272441</td>\n",
       "      <td>5</td>\n",
       "      <td>16</td>\n",
       "    </tr>\n",
       "    <tr>\n",
       "      <th>4</th>\n",
       "      <td>4494</td>\n",
       "      <td>272442</td>\n",
       "      <td>5</td>\n",
       "      <td>16</td>\n",
       "    </tr>\n",
       "  </tbody>\n",
       "</table>\n",
       "</div>"
      ],
      "text/plain": [
       "   bill_id  vote_id  n_lib_votes  total_votes\n",
       "0     4493   209038           15           29\n",
       "1     4493   209041            5           16\n",
       "2     4493   209042            5           16\n",
       "3     4494   272441            5           16\n",
       "4     4494   272442            5           16"
      ]
     },
     "execution_count": 26,
     "metadata": {},
     "output_type": "execute_result"
    }
   ],
   "source": [
    "lib_vote_count = blv[['bill_id', 'vote_id', 'is_liberal']].groupby(['bill_id', 'vote_id']).agg(['sum', 'count'])\n",
    "lib_vote_count = lib_vote_count.reset_index()\n",
    "lib_vote_count.columns = ['bill_id', 'vote_id', 'n_lib_votes', 'total_votes']\n",
    "lib_vote_count.head()"
   ]
  },
  {
   "cell_type": "code",
   "execution_count": 27,
   "metadata": {},
   "outputs": [],
   "source": [
    "votes3 = votes2.merge(lib_vote_count, on = ['bill_id'], how='left')\n",
    "votes3 = votes3.merge(unique_bills, on = 'bill_id')\n",
    "votes3 = votes3.merge(divs[['id', 'abbr']], left_on='division_id', right_on='id')"
   ]
  },
  {
   "cell_type": "code",
   "execution_count": 28,
   "metadata": {
    "scrolled": true
   },
   "outputs": [
    {
     "data": {
      "text/html": [
       "<div>\n",
       "<style scoped>\n",
       "    .dataframe tbody tr th:only-of-type {\n",
       "        vertical-align: middle;\n",
       "    }\n",
       "\n",
       "    .dataframe tbody tr th {\n",
       "        vertical-align: top;\n",
       "    }\n",
       "\n",
       "    .dataframe thead th {\n",
       "        text-align: right;\n",
       "    }\n",
       "</style>\n",
       "<table border=\"1\" class=\"dataframe\">\n",
       "  <thead>\n",
       "    <tr style=\"text-align: right;\">\n",
       "      <th></th>\n",
       "      <th>abbr</th>\n",
       "      <th>division_id</th>\n",
       "      <th>session_id</th>\n",
       "      <th>chamber_id</th>\n",
       "      <th>partisan_lean</th>\n",
       "    </tr>\n",
       "  </thead>\n",
       "  <tbody>\n",
       "    <tr>\n",
       "      <th>0</th>\n",
       "      <td>AK</td>\n",
       "      <td>651.0</td>\n",
       "      <td>610</td>\n",
       "      <td>1</td>\n",
       "      <td>NaN</td>\n",
       "    </tr>\n",
       "    <tr>\n",
       "      <th>1</th>\n",
       "      <td>AK</td>\n",
       "      <td>651.0</td>\n",
       "      <td>610</td>\n",
       "      <td>2</td>\n",
       "      <td>NaN</td>\n",
       "    </tr>\n",
       "    <tr>\n",
       "      <th>2</th>\n",
       "      <td>AL</td>\n",
       "      <td>1421.0</td>\n",
       "      <td>502</td>\n",
       "      <td>1</td>\n",
       "      <td>0.339564</td>\n",
       "    </tr>\n",
       "    <tr>\n",
       "      <th>3</th>\n",
       "      <td>AL</td>\n",
       "      <td>1421.0</td>\n",
       "      <td>502</td>\n",
       "      <td>2</td>\n",
       "      <td>0.364537</td>\n",
       "    </tr>\n",
       "    <tr>\n",
       "      <th>4</th>\n",
       "      <td>AL</td>\n",
       "      <td>1421.0</td>\n",
       "      <td>608</td>\n",
       "      <td>1</td>\n",
       "      <td>0.258371</td>\n",
       "    </tr>\n",
       "  </tbody>\n",
       "</table>\n",
       "</div>"
      ],
      "text/plain": [
       "  abbr  division_id  session_id  chamber_id  partisan_lean\n",
       "0   AK        651.0         610           1            NaN\n",
       "1   AK        651.0         610           2            NaN\n",
       "2   AL       1421.0         502           1       0.339564\n",
       "3   AL       1421.0         502           2       0.364537\n",
       "4   AL       1421.0         608           1       0.258371"
      ]
     },
     "execution_count": 28,
     "metadata": {},
     "output_type": "execute_result"
    }
   ],
   "source": [
    "# Partisan lean is calculated as the ratio of total liberal votes divided by total votes:\n",
    "total_votes = votes3[['abbr', 'division_id', 'session_id', 'chamber_id', 'yes', 'n_lib_votes', 'total_votes']].groupby(['abbr', 'division_id', 'session_id', 'chamber_id']).agg(['count', 'sum'])\n",
    "a = total_votes['n_lib_votes']['sum'] / total_votes['total_votes']['sum'] \n",
    "a = a.to_frame().reset_index().rename(columns={\"sum\":\"partisan_lean\"})\n",
    "a = a[a.chamber_id != 153]\n",
    "a = a[a.abbr != 'PR']\n",
    "a.head()"
   ]
  },
  {
   "cell_type": "code",
   "execution_count": null,
   "metadata": {},
   "outputs": [],
   "source": []
  },
  {
   "cell_type": "code",
   "execution_count": 29,
   "metadata": {},
   "outputs": [],
   "source": [
    "# Missing vote data from some states. Use the ratio of liberals to chamber size\n",
    "# From Wikipedia, hard coding the partisan lean from each state:\n",
    "a.loc[(a['abbr'] == 'AK') & (a['chamber_id'] == 1), 'partisan_lean'] = 15/40\n",
    "a.loc[(a['abbr'] == 'AK') & (a['chamber_id'] == 2), 'partisan_lean'] = 7/20\n",
    "a.loc[(a['abbr'] == 'ME') & (a['chamber_id'] == 1), 'partisan_lean'] = 88/151\n",
    "a.loc[(a['abbr'] == 'ME') & (a['chamber_id'] == 2), 'partisan_lean'] = 21/35\n",
    "a.loc[(a['abbr'] == 'MO') & (a['chamber_id'] == 1), 'partisan_lean'] = 48/163\n",
    "a.loc[(a['abbr'] == 'MO') & (a['chamber_id'] == 2), 'partisan_lean'] = 10/34\n",
    "a.loc[(a['abbr'] == 'MT') & (a['chamber_id'] == 1), 'partisan_lean'] = 41/100\n",
    "a.loc[(a['abbr'] == 'MT') & (a['chamber_id'] == 2), 'partisan_lean'] = 20/50\n",
    "a.loc[(a['abbr'] == 'OK') & (a['chamber_id'] == 1), 'partisan_lean'] = 24/101\n",
    "a.loc[(a['abbr'] == 'OK') & (a['chamber_id'] == 2), 'partisan_lean'] = 9/39\n",
    "a.loc[(a['abbr'] == 'SC') & (a['chamber_id'] == 1), 'partisan_lean'] = 45/124\n",
    "a.loc[(a['abbr'] == 'SC') & (a['chamber_id'] == 2), 'partisan_lean'] = 19/46\n",
    "a.loc[(a['abbr'] == 'UT') & (a['chamber_id'] == 1), 'partisan_lean'] = 16/75\n",
    "a.loc[(a['abbr'] == 'UT') & (a['chamber_id'] == 2), 'partisan_lean'] = 6/29\n",
    "a.loc[(a['abbr'] == 'VA') & (a['chamber_id'] == 1), 'partisan_lean'] = 55/100\n",
    "a.loc[(a['abbr'] == 'VA') & (a['chamber_id'] == 2), 'partisan_lean'] = 21/40"
   ]
  },
  {
   "cell_type": "code",
   "execution_count": 30,
   "metadata": {
    "scrolled": true
   },
   "outputs": [
    {
     "data": {
      "text/html": [
       "<div>\n",
       "<style scoped>\n",
       "    .dataframe tbody tr th:only-of-type {\n",
       "        vertical-align: middle;\n",
       "    }\n",
       "\n",
       "    .dataframe tbody tr th {\n",
       "        vertical-align: top;\n",
       "    }\n",
       "\n",
       "    .dataframe thead th {\n",
       "        text-align: right;\n",
       "    }\n",
       "</style>\n",
       "<table border=\"1\" class=\"dataframe\">\n",
       "  <thead>\n",
       "    <tr style=\"text-align: right;\">\n",
       "      <th></th>\n",
       "      <th>abbr</th>\n",
       "      <th>division_id</th>\n",
       "      <th>session_id</th>\n",
       "      <th>chamber_id</th>\n",
       "      <th>partisan_lean</th>\n",
       "    </tr>\n",
       "  </thead>\n",
       "  <tbody>\n",
       "    <tr>\n",
       "      <th>0</th>\n",
       "      <td>AK</td>\n",
       "      <td>651.0</td>\n",
       "      <td>610</td>\n",
       "      <td>1</td>\n",
       "      <td>0.375000</td>\n",
       "    </tr>\n",
       "    <tr>\n",
       "      <th>1</th>\n",
       "      <td>AK</td>\n",
       "      <td>651.0</td>\n",
       "      <td>610</td>\n",
       "      <td>2</td>\n",
       "      <td>0.350000</td>\n",
       "    </tr>\n",
       "    <tr>\n",
       "      <th>2</th>\n",
       "      <td>AL</td>\n",
       "      <td>1421.0</td>\n",
       "      <td>502</td>\n",
       "      <td>1</td>\n",
       "      <td>0.339564</td>\n",
       "    </tr>\n",
       "    <tr>\n",
       "      <th>3</th>\n",
       "      <td>AL</td>\n",
       "      <td>1421.0</td>\n",
       "      <td>502</td>\n",
       "      <td>2</td>\n",
       "      <td>0.364537</td>\n",
       "    </tr>\n",
       "    <tr>\n",
       "      <th>4</th>\n",
       "      <td>AL</td>\n",
       "      <td>1421.0</td>\n",
       "      <td>608</td>\n",
       "      <td>1</td>\n",
       "      <td>0.258371</td>\n",
       "    </tr>\n",
       "    <tr>\n",
       "      <th>...</th>\n",
       "      <td>...</td>\n",
       "      <td>...</td>\n",
       "      <td>...</td>\n",
       "      <td>...</td>\n",
       "      <td>...</td>\n",
       "    </tr>\n",
       "    <tr>\n",
       "      <th>153</th>\n",
       "      <td>WV</td>\n",
       "      <td>190272.0</td>\n",
       "      <td>637</td>\n",
       "      <td>2</td>\n",
       "      <td>0.424766</td>\n",
       "    </tr>\n",
       "    <tr>\n",
       "      <th>154</th>\n",
       "      <td>WY</td>\n",
       "      <td>192572.0</td>\n",
       "      <td>585</td>\n",
       "      <td>1</td>\n",
       "      <td>0.113212</td>\n",
       "    </tr>\n",
       "    <tr>\n",
       "      <th>155</th>\n",
       "      <td>WY</td>\n",
       "      <td>192572.0</td>\n",
       "      <td>585</td>\n",
       "      <td>2</td>\n",
       "      <td>0.160087</td>\n",
       "    </tr>\n",
       "    <tr>\n",
       "      <th>156</th>\n",
       "      <td>WY</td>\n",
       "      <td>192572.0</td>\n",
       "      <td>639</td>\n",
       "      <td>1</td>\n",
       "      <td>0.121591</td>\n",
       "    </tr>\n",
       "    <tr>\n",
       "      <th>157</th>\n",
       "      <td>WY</td>\n",
       "      <td>192572.0</td>\n",
       "      <td>639</td>\n",
       "      <td>2</td>\n",
       "      <td>0.157102</td>\n",
       "    </tr>\n",
       "  </tbody>\n",
       "</table>\n",
       "<p>147 rows × 5 columns</p>\n",
       "</div>"
      ],
      "text/plain": [
       "    abbr  division_id  session_id  chamber_id  partisan_lean\n",
       "0     AK        651.0         610           1       0.375000\n",
       "1     AK        651.0         610           2       0.350000\n",
       "2     AL       1421.0         502           1       0.339564\n",
       "3     AL       1421.0         502           2       0.364537\n",
       "4     AL       1421.0         608           1       0.258371\n",
       "..   ...          ...         ...         ...            ...\n",
       "153   WV     190272.0         637           2       0.424766\n",
       "154   WY     192572.0         585           1       0.113212\n",
       "155   WY     192572.0         585           2       0.160087\n",
       "156   WY     192572.0         639           1       0.121591\n",
       "157   WY     192572.0         639           2       0.157102\n",
       "\n",
       "[147 rows x 5 columns]"
      ]
     },
     "execution_count": 30,
     "metadata": {},
     "output_type": "execute_result"
    }
   ],
   "source": [
    "a"
   ]
  },
  {
   "cell_type": "code",
   "execution_count": 31,
   "metadata": {},
   "outputs": [],
   "source": [
    "derived = \"../references/derived/\"\n",
    "import os\n",
    "if not os.path.exists(derived):\n",
    "    os.makedirs(derived)\n",
    "a.to_csv(derived + \"partisan_lean.csv\")"
   ]
  },
  {
   "cell_type": "code",
   "execution_count": null,
   "metadata": {},
   "outputs": [],
   "source": []
  },
  {
   "cell_type": "code",
   "execution_count": null,
   "metadata": {},
   "outputs": [],
   "source": []
  }
 ],
 "metadata": {
  "kernelspec": {
   "display_name": "Python 3",
   "language": "python",
   "name": "python3"
  },
  "language_info": {
   "codemirror_mode": {
    "name": "ipython",
    "version": 3
   },
   "file_extension": ".py",
   "mimetype": "text/x-python",
   "name": "python",
   "nbconvert_exporter": "python",
   "pygments_lexer": "ipython3",
   "version": "3.8.7"
  }
 },
 "nbformat": 4,
 "nbformat_minor": 4
}
