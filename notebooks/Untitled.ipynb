{
 "cells": [
  {
   "cell_type": "code",
   "execution_count": 1,
   "metadata": {},
   "outputs": [],
   "source": [
    "import pandas as pd\n",
    "import numpy as np"
   ]
  },
  {
   "cell_type": "code",
   "execution_count": 2,
   "metadata": {},
   "outputs": [],
   "source": [
    "bv = pd.read_csv(\"../data/external/bill_version.csv\", sep=\";\", encoding=\"latin1\", parse_dates=True).rename(columns={\"id\": \"version_id\"})\n",
    "bills =  pd.read_csv(\"../data/external/bill.csv\", sep=\";\", encoding=\"latin1\", parse_dates=True).rename(columns={\"id\": \"bill_id\"})"
   ]
  },
  {
   "cell_type": "code",
   "execution_count": 3,
   "metadata": {},
   "outputs": [],
   "source": [
    "partisan_lean = pd.read_csv(\"../data/derived/partisan_lean.csv\", sep=\",\", encoding=\"latin1\", parse_dates=True)\n",
    "derived_features = pd.read_csv(\"../data/derived/basic_version_features.csv\", sep=\",\", encoding=\"latin1\", parse_dates=True).rename(columns={'id': 'version_id'})"
   ]
  },
  {
   "cell_type": "code",
   "execution_count": 4,
   "metadata": {},
   "outputs": [],
   "source": [
    "df = bv[['version_id', 'bill_id']].merge(bills[['bill_id', 'chamber_id', 'session_id', 'signed']], on = 'bill_id')"
   ]
  },
  {
   "cell_type": "code",
   "execution_count": 6,
   "metadata": {},
   "outputs": [],
   "source": [
    "df = df.fillna(0)\n",
    "df.loc[df.signed != 0, 'signed'] = 1\n",
    "df2 = df.merge(partisan_lean[['abbr', 'session_id', 'chamber_id', 'partisan_lean']], on = ['session_id', 'chamber_id'])"
   ]
  },
  {
   "cell_type": "code",
   "execution_count": 13,
   "metadata": {},
   "outputs": [],
   "source": [
    "df_ml = df2.merge(derived_features, on = 'version_id')\n",
    "df_ml_X = df_ml[['session_id', 'partisan_lean', 'text_length']]\n",
    "df_ml_Y = df_ml[['signed']]"
   ]
  },
  {
   "cell_type": "code",
   "execution_count": 10,
   "metadata": {},
   "outputs": [],
   "source": [
    "from sklearn.model_selection import train_test_split"
   ]
  },
  {
   "cell_type": "code",
   "execution_count": 15,
   "metadata": {},
   "outputs": [],
   "source": [
    "[X_train, X_test, Y_train, Y_test] = train_test_split(df_ml_X, df_ml_Y, test_size = 0.1)"
   ]
  },
  {
   "cell_type": "code",
   "execution_count": 16,
   "metadata": {},
   "outputs": [
    {
     "data": {
      "text/plain": [
       "(446632, 3)"
      ]
     },
     "execution_count": 16,
     "metadata": {},
     "output_type": "execute_result"
    }
   ],
   "source": [
    "X_train.shape"
   ]
  },
  {
   "cell_type": "code",
   "execution_count": 17,
   "metadata": {},
   "outputs": [],
   "source": [
    "import xgboost as xgb"
   ]
  },
  {
   "cell_type": "code",
   "execution_count": null,
   "metadata": {},
   "outputs": [],
   "source": []
  }
 ],
 "metadata": {
  "kernelspec": {
   "display_name": "govhawk_ml_env",
   "language": "python",
   "name": "govhawk_ml_env"
  },
  "language_info": {
   "codemirror_mode": {
    "name": "ipython",
    "version": 3
   },
   "file_extension": ".py",
   "mimetype": "text/x-python",
   "name": "python",
   "nbconvert_exporter": "python",
   "pygments_lexer": "ipython3",
   "version": "3.8.5"
  }
 },
 "nbformat": 4,
 "nbformat_minor": 4
}
