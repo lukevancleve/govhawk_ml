{
 "cells": [
  {
   "cell_type": "code",
   "execution_count": 6,
   "id": "copyrighted-arctic",
   "metadata": {},
   "outputs": [
    {
     "name": "stdout",
     "output_type": "stream",
     "text": [
      "The autoreload extension is already loaded. To reload it, use:\n",
      "  %reload_ext autoreload\n"
     ]
    }
   ],
   "source": [
    "%load_ext autoreload\n",
    "%autoreload 2\n",
    "\n",
    "import numpy as np\n",
    "import pandas as pd\n",
    "import tensorflow as tf\n",
    "import os\n",
    "import sys\n",
    "\n",
    "module_path = os.path.abspath(os.path.join('..'))\n",
    "if module_path not in sys.path:\n",
    "    sys.path.append(module_path)\n",
    "\n",
    "from src.models.deeplegis import *\n",
    "from src.models.data_loader import *"
   ]
  },
  {
   "cell_type": "code",
   "execution_count": 7,
   "id": "respective-walnut",
   "metadata": {},
   "outputs": [],
   "source": [
    "config = deepLegisConfig(\"no_text.json\", project_root = \"../\")"
   ]
  },
  {
   "cell_type": "code",
   "execution_count": 8,
   "id": "tough-angle",
   "metadata": {},
   "outputs": [
    {
     "data": {
      "text/plain": [
       "{'model_name': 'no_text',\n",
       " 'build_from_scratch': False,\n",
       " 'tokenizer': None,\n",
       " 'batch_size': 128,\n",
       " 'epochs': 20,\n",
       " 'learning_rate': 0.001,\n",
       " 'n_sc_id_classes': None,\n",
       " 'project_root': '../',\n",
       " 'data_vol': '/home/luke/tmp_vol/',\n",
       " 'max_length': None,\n",
       " 'n_dense_layers': 1024,\n",
       " 'model_location': '/home/luke/tmp_vol/models/no_text/full_model.h5',\n",
       " 'log_dir': '/home/luke/tmp_vol/logs/fit/no_text_20210313-082407',\n",
       " 'checkpoint_path': '/home/luke/tmp_vol/models/no_text/no_text.ckpt',\n",
       " 'config_location': '../src/configs/no_text.json'}"
      ]
     },
     "execution_count": 8,
     "metadata": {},
     "output_type": "execute_result"
    }
   ],
   "source": [
    "vars(config)"
   ]
  },
  {
   "cell_type": "code",
   "execution_count": 9,
   "id": "geographic-rapid",
   "metadata": {},
   "outputs": [],
   "source": [
    "b = deepLegisNoText(config)"
   ]
  },
  {
   "cell_type": "code",
   "execution_count": 10,
   "id": "soviet-display",
   "metadata": {},
   "outputs": [
    {
     "name": "stdout",
     "output_type": "stream",
     "text": [
      "Original number of examples: 199646\n",
      "Reduced number of examples:  1996\n",
      "        id  version_number  bill_id  signed  passed  partisan_lean  sc_id  \\\n",
      "0  2571209               1  1317896       0       0       0.663606  641-1   \n",
      "1  2381663               2  1224954       0       0       0.365323  612-1   \n",
      "2  2602418               9  1283926       1       1       0.602720  636-2   \n",
      "3  2273450               1  1196357       0       0       0.213333  584-1   \n",
      "4  2450630               1  1251835       0       0       0.647030  520-1   \n",
      "\n",
      "   sc_id_cat  \n",
      "0        126  \n",
      "1         81  \n",
      "2        118  \n",
      "3         41  \n",
      "4          0  \n",
      "Full size: (1996, 8)\n",
      "Training size: (1634, 8)\n",
      "Validation size: (182, 8)\n",
      "Test size: (180, 8)\n"
     ]
    }
   ],
   "source": [
    "b.load_data(reduce_by_factor=100) "
   ]
  },
  {
   "cell_type": "code",
   "execution_count": 11,
   "id": "center-microwave",
   "metadata": {},
   "outputs": [
    {
     "data": {
      "text/html": [
       "<div>\n",
       "<style scoped>\n",
       "    .dataframe tbody tr th:only-of-type {\n",
       "        vertical-align: middle;\n",
       "    }\n",
       "\n",
       "    .dataframe tbody tr th {\n",
       "        vertical-align: top;\n",
       "    }\n",
       "\n",
       "    .dataframe thead th {\n",
       "        text-align: right;\n",
       "    }\n",
       "</style>\n",
       "<table border=\"1\" class=\"dataframe\">\n",
       "  <thead>\n",
       "    <tr style=\"text-align: right;\">\n",
       "      <th></th>\n",
       "      <th>id</th>\n",
       "      <th>version_number</th>\n",
       "      <th>bill_id</th>\n",
       "      <th>signed</th>\n",
       "      <th>passed</th>\n",
       "      <th>partisan_lean</th>\n",
       "      <th>sc_id</th>\n",
       "      <th>sc_id_cat</th>\n",
       "    </tr>\n",
       "  </thead>\n",
       "  <tbody>\n",
       "    <tr>\n",
       "      <th>0</th>\n",
       "      <td>2571209</td>\n",
       "      <td>1</td>\n",
       "      <td>1317896</td>\n",
       "      <td>0</td>\n",
       "      <td>0</td>\n",
       "      <td>0.663606</td>\n",
       "      <td>641-1</td>\n",
       "      <td>126</td>\n",
       "    </tr>\n",
       "    <tr>\n",
       "      <th>1</th>\n",
       "      <td>2381663</td>\n",
       "      <td>2</td>\n",
       "      <td>1224954</td>\n",
       "      <td>0</td>\n",
       "      <td>0</td>\n",
       "      <td>0.365323</td>\n",
       "      <td>612-1</td>\n",
       "      <td>81</td>\n",
       "    </tr>\n",
       "    <tr>\n",
       "      <th>2</th>\n",
       "      <td>2602418</td>\n",
       "      <td>9</td>\n",
       "      <td>1283926</td>\n",
       "      <td>1</td>\n",
       "      <td>1</td>\n",
       "      <td>0.602720</td>\n",
       "      <td>636-2</td>\n",
       "      <td>118</td>\n",
       "    </tr>\n",
       "    <tr>\n",
       "      <th>3</th>\n",
       "      <td>2273450</td>\n",
       "      <td>1</td>\n",
       "      <td>1196357</td>\n",
       "      <td>0</td>\n",
       "      <td>0</td>\n",
       "      <td>0.213333</td>\n",
       "      <td>584-1</td>\n",
       "      <td>41</td>\n",
       "    </tr>\n",
       "    <tr>\n",
       "      <th>4</th>\n",
       "      <td>2450630</td>\n",
       "      <td>1</td>\n",
       "      <td>1251835</td>\n",
       "      <td>0</td>\n",
       "      <td>0</td>\n",
       "      <td>0.647030</td>\n",
       "      <td>520-1</td>\n",
       "      <td>0</td>\n",
       "    </tr>\n",
       "  </tbody>\n",
       "</table>\n",
       "</div>"
      ],
      "text/plain": [
       "        id  version_number  bill_id  signed  passed  partisan_lean  sc_id  \\\n",
       "0  2571209               1  1317896       0       0       0.663606  641-1   \n",
       "1  2381663               2  1224954       0       0       0.365323  612-1   \n",
       "2  2602418               9  1283926       1       1       0.602720  636-2   \n",
       "3  2273450               1  1196357       0       0       0.213333  584-1   \n",
       "4  2450630               1  1251835       0       0       0.647030  520-1   \n",
       "\n",
       "   sc_id_cat  \n",
       "0        126  \n",
       "1         81  \n",
       "2        118  \n",
       "3         41  \n",
       "4          0  "
      ]
     },
     "execution_count": 11,
     "metadata": {},
     "output_type": "execute_result"
    }
   ],
   "source": [
    "b.df.head()"
   ]
  },
  {
   "cell_type": "code",
   "execution_count": 12,
   "id": "vietnamese-fruit",
   "metadata": {},
   "outputs": [
    {
     "name": "stdout",
     "output_type": "stream",
     "text": [
      "(None, 136)\n",
      "134\n",
      "Model: \"model\"\n",
      "__________________________________________________________________________________________________\n",
      "Layer (type)                    Output Shape         Param #     Connected to                     \n",
      "==================================================================================================\n",
      "partisan_lean (InputLayer)      [(None, 1)]          0                                            \n",
      "__________________________________________________________________________________________________\n",
      "version_number (InputLayer)     [(None, 1)]          0                                            \n",
      "__________________________________________________________________________________________________\n",
      "sc_id (InputLayer)              [(None, 134)]        0                                            \n",
      "__________________________________________________________________________________________________\n",
      "tf.concat (TFOpLambda)          (None, 136)          0           partisan_lean[0][0]              \n",
      "                                                                 version_number[0][0]             \n",
      "                                                                 sc_id[0][0]                      \n",
      "__________________________________________________________________________________________________\n",
      "no_text_dense_layer (Dense)     (None, 1024)         140288      tf.concat[0][0]                  \n",
      "__________________________________________________________________________________________________\n",
      "dropout (Dropout)               (None, 1024)         0           no_text_dense_layer[0][0]        \n",
      "__________________________________________________________________________________________________\n",
      "dense (Dense)                   (None, 1)            1025        dropout[0][0]                    \n",
      "==================================================================================================\n",
      "Total params: 141,313\n",
      "Trainable params: 141,313\n",
      "Non-trainable params: 0\n",
      "__________________________________________________________________________________________________\n",
      "13/13 [==============================] - 3s 132ms/step - loss: 0.6139 - binary_accuracy: 0.8289 - precision: 0.1739 - recall: 0.0532 - auc: 0.3730 - val_loss: 0.4831 - val_binary_accuracy: 0.8462 - val_precision: 0.0000e+00 - val_recall: 0.0000e+00 - val_auc: 0.4761\n",
      "\n",
      "Epoch 00001: saving model to /home/luke/tmp_vol/models/no_text/no_text.ckpt\n"
     ]
    },
    {
     "data": {
      "text/plain": [
       "<tensorflow.python.keras.callbacks.History at 0x7f7a6dc504f0>"
      ]
     },
     "execution_count": 12,
     "metadata": {},
     "output_type": "execute_result"
    }
   ],
   "source": [
    "b.build()\n",
    "b.config.epochs = 1\n",
    "b.deep_legis_model.summary()\n",
    "b.train()\n",
    "#a = legislationDatasetPartisanLean(config)"
   ]
  },
  {
   "cell_type": "code",
   "execution_count": 13,
   "id": "administrative-judge",
   "metadata": {},
   "outputs": [],
   "source": [
    "b.deep_legis_model.save(config.model_location)"
   ]
  },
  {
   "cell_type": "code",
   "execution_count": 17,
   "id": "computational-night",
   "metadata": {},
   "outputs": [
    {
     "name": "stderr",
     "output_type": "stream",
     "text": [
      "/home/luke/repos/govhawk_ml/src/models/deeplegis.py:77: SettingWithCopyWarning: \n",
      "A value is trying to be set on a copy of a slice from a DataFrame.\n",
      "Try using .loc[row_indexer,col_indexer] = value instead\n",
      "\n",
      "See the caveats in the documentation: https://pandas.pydata.org/pandas-docs/stable/user_guide/indexing.html#returning-a-view-versus-a-copy\n",
      "  df_preds['preds'] = preds\n"
     ]
    },
    {
     "name": "stdout",
     "output_type": "stream",
     "text": [
      "Savinging predictions to: /home/luke/tmp_vol/models/no_text/predicions.csv\n"
     ]
    },
    {
     "data": {
      "text/plain": [
       "array([[0.2604698 ],\n",
       "       [0.25351074],\n",
       "       [0.04405841],\n",
       "       ...,\n",
       "       [0.2524444 ],\n",
       "       [0.27068204],\n",
       "       [0.3035921 ]], dtype=float32)"
      ]
     },
     "execution_count": 17,
     "metadata": {},
     "output_type": "execute_result"
    }
   ],
   "source": [
    "b.full_dataset_prediction()"
   ]
  },
  {
   "cell_type": "code",
   "execution_count": 18,
   "id": "authorized-miniature",
   "metadata": {},
   "outputs": [
    {
     "name": "stdout",
     "output_type": "stream",
     "text": [
      "2/2 [==============================] - 0s 22ms/step - loss: 0.4847 - binary_accuracy: 0.8444 - precision: 0.0000e+00 - recall: 0.0000e+00 - auc: 0.4212\n"
     ]
    },
    {
     "data": {
      "text/plain": [
       "{'loss': 0.4846518635749817,\n",
       " 'binary_accuracy': 0.8444444537162781,\n",
       " 'precision': 0.0,\n",
       " 'recall': 0.0,\n",
       " 'auc': 0.42117011547088623}"
      ]
     },
     "execution_count": 18,
     "metadata": {},
     "output_type": "execute_result"
    }
   ],
   "source": [
    "b.evaluate()"
   ]
  }
 ],
 "metadata": {
  "kernelspec": {
   "display_name": "Python 3",
   "language": "python",
   "name": "python3"
  },
  "language_info": {
   "codemirror_mode": {
    "name": "ipython",
    "version": 3
   },
   "file_extension": ".py",
   "mimetype": "text/x-python",
   "name": "python",
   "nbconvert_exporter": "python",
   "pygments_lexer": "ipython3",
   "version": "3.8.5"
  }
 },
 "nbformat": 4,
 "nbformat_minor": 5
}
