{
 "cells": [
  {
   "cell_type": "code",
   "execution_count": 39,
   "metadata": {},
   "outputs": [],
   "source": [
    "import pandas as pd\n",
    "import numpy as np"
   ]
  },
  {
   "cell_type": "code",
   "execution_count": 40,
   "metadata": {},
   "outputs": [],
   "source": [
    "bv = pd.read_csv(\"../data/external/bill_version.csv\", sep=\";\", encoding=\"latin1\", parse_dates=True).rename(columns={\"id\": \"version_id\"})\n",
    "bills =  pd.read_csv(\"../data/external/bill.csv\", sep=\";\", encoding=\"latin1\", parse_dates=True).rename(columns={\"id\": \"bill_id\"})"
   ]
  },
  {
   "cell_type": "code",
   "execution_count": 41,
   "metadata": {},
   "outputs": [],
   "source": [
    "partisan_lean = pd.read_csv(\"../data/derived/partisan_lean.csv\", sep=\",\", encoding=\"latin1\", parse_dates=True)\n",
    "derived_features = pd.read_csv(\"../data/derived/basic_version_features.csv\", sep=\",\", encoding=\"latin1\", parse_dates=True).rename(columns={'id': 'version_id'})"
   ]
  },
  {
   "cell_type": "code",
   "execution_count": 42,
   "metadata": {},
   "outputs": [],
   "source": [
    "df = bv[['version_id', 'bill_id']].merge(bills[['bill_id', 'chamber_id', 'session_id', 'signed']], on = 'bill_id')"
   ]
  },
  {
   "cell_type": "code",
   "execution_count": 43,
   "metadata": {},
   "outputs": [],
   "source": [
    "df = df.fillna(0)\n",
    "df.loc[df.signed != 0, 'signed'] = 1\n"
   ]
  },
  {
   "cell_type": "code",
   "execution_count": 44,
   "metadata": {},
   "outputs": [],
   "source": [
    "partisan_lean.head()\n",
    "df2 = df.merge(partisan_lean[['abbr', 'session_id', 'chamber_id', 'partisan_lean']], on = ['session_id', 'chamber_id'])"
   ]
  },
  {
   "cell_type": "code",
   "execution_count": null,
   "metadata": {},
   "outputs": [],
   "source": []
  },
  {
   "cell_type": "code",
   "execution_count": 45,
   "metadata": {},
   "outputs": [],
   "source": [
    "df_ml = df2.merge(derived_features, on = 'version_id')\n",
    "df_ml['session_chamber'] = df_ml['abbr'].map(str) + \"-\" + df_ml['chamber_id'].map(int).map(str)"
   ]
  },
  {
   "cell_type": "code",
   "execution_count": 46,
   "metadata": {},
   "outputs": [
    {
     "data": {
      "text/html": [
       "<div>\n",
       "<style scoped>\n",
       "    .dataframe tbody tr th:only-of-type {\n",
       "        vertical-align: middle;\n",
       "    }\n",
       "\n",
       "    .dataframe tbody tr th {\n",
       "        vertical-align: top;\n",
       "    }\n",
       "\n",
       "    .dataframe thead th {\n",
       "        text-align: right;\n",
       "    }\n",
       "</style>\n",
       "<table border=\"1\" class=\"dataframe\">\n",
       "  <thead>\n",
       "    <tr style=\"text-align: right;\">\n",
       "      <th></th>\n",
       "      <th>version_id</th>\n",
       "      <th>bill_id</th>\n",
       "      <th>chamber_id</th>\n",
       "      <th>session_id</th>\n",
       "      <th>signed</th>\n",
       "      <th>abbr</th>\n",
       "      <th>partisan_lean</th>\n",
       "      <th>text_length</th>\n",
       "      <th>session_chamber</th>\n",
       "    </tr>\n",
       "  </thead>\n",
       "  <tbody>\n",
       "    <tr>\n",
       "      <th>0</th>\n",
       "      <td>2119301</td>\n",
       "      <td>1092981</td>\n",
       "      <td>1.0</td>\n",
       "      <td>562</td>\n",
       "      <td>0</td>\n",
       "      <td>TN</td>\n",
       "      <td>0.236118</td>\n",
       "      <td>43841</td>\n",
       "      <td>TN-1</td>\n",
       "    </tr>\n",
       "    <tr>\n",
       "      <th>1</th>\n",
       "      <td>2708948</td>\n",
       "      <td>1092981</td>\n",
       "      <td>1.0</td>\n",
       "      <td>562</td>\n",
       "      <td>0</td>\n",
       "      <td>TN</td>\n",
       "      <td>0.236118</td>\n",
       "      <td>53832</td>\n",
       "      <td>TN-1</td>\n",
       "    </tr>\n",
       "    <tr>\n",
       "      <th>2</th>\n",
       "      <td>2708949</td>\n",
       "      <td>1092981</td>\n",
       "      <td>1.0</td>\n",
       "      <td>562</td>\n",
       "      <td>0</td>\n",
       "      <td>TN</td>\n",
       "      <td>0.236118</td>\n",
       "      <td>60077</td>\n",
       "      <td>TN-1</td>\n",
       "    </tr>\n",
       "    <tr>\n",
       "      <th>3</th>\n",
       "      <td>2708950</td>\n",
       "      <td>1092981</td>\n",
       "      <td>1.0</td>\n",
       "      <td>562</td>\n",
       "      <td>0</td>\n",
       "      <td>TN</td>\n",
       "      <td>0.236118</td>\n",
       "      <td>7175</td>\n",
       "      <td>TN-1</td>\n",
       "    </tr>\n",
       "    <tr>\n",
       "      <th>4</th>\n",
       "      <td>2708951</td>\n",
       "      <td>1092981</td>\n",
       "      <td>1.0</td>\n",
       "      <td>562</td>\n",
       "      <td>0</td>\n",
       "      <td>TN</td>\n",
       "      <td>0.236118</td>\n",
       "      <td>961</td>\n",
       "      <td>TN-1</td>\n",
       "    </tr>\n",
       "  </tbody>\n",
       "</table>\n",
       "</div>"
      ],
      "text/plain": [
       "   version_id  bill_id  chamber_id  session_id signed abbr  partisan_lean  \\\n",
       "0     2119301  1092981         1.0         562      0   TN       0.236118   \n",
       "1     2708948  1092981         1.0         562      0   TN       0.236118   \n",
       "2     2708949  1092981         1.0         562      0   TN       0.236118   \n",
       "3     2708950  1092981         1.0         562      0   TN       0.236118   \n",
       "4     2708951  1092981         1.0         562      0   TN       0.236118   \n",
       "\n",
       "   text_length session_chamber  \n",
       "0        43841            TN-1  \n",
       "1        53832            TN-1  \n",
       "2        60077            TN-1  \n",
       "3         7175            TN-1  \n",
       "4          961            TN-1  "
      ]
     },
     "execution_count": 46,
     "metadata": {},
     "output_type": "execute_result"
    }
   ],
   "source": [
    "df_ml.head()"
   ]
  },
  {
   "cell_type": "code",
   "execution_count": 47,
   "metadata": {},
   "outputs": [],
   "source": [
    "df_ml = df_ml[['signed', 'session_chamber', 'partisan_lean', 'text_length']]"
   ]
  },
  {
   "cell_type": "code",
   "execution_count": 48,
   "metadata": {},
   "outputs": [],
   "source": [
    "from sklearn.model_selection import train_test_split"
   ]
  },
  {
   "cell_type": "code",
   "execution_count": 49,
   "metadata": {},
   "outputs": [],
   "source": [
    "df_ml_y = df_ml[['signed']].values"
   ]
  },
  {
   "cell_type": "code",
   "execution_count": 50,
   "metadata": {},
   "outputs": [],
   "source": [
    "from sklearn.preprocessing import OneHotEncoder"
   ]
  },
  {
   "cell_type": "code",
   "execution_count": 51,
   "metadata": {},
   "outputs": [
    {
     "data": {
      "text/html": [
       "<div>\n",
       "<style scoped>\n",
       "    .dataframe tbody tr th:only-of-type {\n",
       "        vertical-align: middle;\n",
       "    }\n",
       "\n",
       "    .dataframe tbody tr th {\n",
       "        vertical-align: top;\n",
       "    }\n",
       "\n",
       "    .dataframe thead th {\n",
       "        text-align: right;\n",
       "    }\n",
       "</style>\n",
       "<table border=\"1\" class=\"dataframe\">\n",
       "  <thead>\n",
       "    <tr style=\"text-align: right;\">\n",
       "      <th></th>\n",
       "      <th>signed</th>\n",
       "      <th>session_chamber</th>\n",
       "      <th>partisan_lean</th>\n",
       "      <th>text_length</th>\n",
       "    </tr>\n",
       "  </thead>\n",
       "  <tbody>\n",
       "    <tr>\n",
       "      <th>0</th>\n",
       "      <td>0</td>\n",
       "      <td>TN-1</td>\n",
       "      <td>0.236118</td>\n",
       "      <td>43841</td>\n",
       "    </tr>\n",
       "    <tr>\n",
       "      <th>1</th>\n",
       "      <td>0</td>\n",
       "      <td>TN-1</td>\n",
       "      <td>0.236118</td>\n",
       "      <td>53832</td>\n",
       "    </tr>\n",
       "    <tr>\n",
       "      <th>2</th>\n",
       "      <td>0</td>\n",
       "      <td>TN-1</td>\n",
       "      <td>0.236118</td>\n",
       "      <td>60077</td>\n",
       "    </tr>\n",
       "    <tr>\n",
       "      <th>3</th>\n",
       "      <td>0</td>\n",
       "      <td>TN-1</td>\n",
       "      <td>0.236118</td>\n",
       "      <td>7175</td>\n",
       "    </tr>\n",
       "    <tr>\n",
       "      <th>4</th>\n",
       "      <td>0</td>\n",
       "      <td>TN-1</td>\n",
       "      <td>0.236118</td>\n",
       "      <td>961</td>\n",
       "    </tr>\n",
       "  </tbody>\n",
       "</table>\n",
       "</div>"
      ],
      "text/plain": [
       "  signed session_chamber  partisan_lean  text_length\n",
       "0      0            TN-1       0.236118        43841\n",
       "1      0            TN-1       0.236118        53832\n",
       "2      0            TN-1       0.236118        60077\n",
       "3      0            TN-1       0.236118         7175\n",
       "4      0            TN-1       0.236118          961"
      ]
     },
     "execution_count": 51,
     "metadata": {},
     "output_type": "execute_result"
    }
   ],
   "source": [
    "df_ml.head()"
   ]
  },
  {
   "cell_type": "code",
   "execution_count": 52,
   "metadata": {},
   "outputs": [
    {
     "data": {
      "text/plain": [
       "OneHotEncoder()"
      ]
     },
     "execution_count": 52,
     "metadata": {},
     "output_type": "execute_result"
    }
   ],
   "source": [
    "enc = OneHotEncoder()\n",
    "enc.fit(df_ml.session_chamber.values.reshape(-1,1))\n",
    "#df_ml.session_chamber.values.reshape(-1,1).shape"
   ]
  },
  {
   "cell_type": "code",
   "execution_count": 53,
   "metadata": {},
   "outputs": [
    {
     "data": {
      "text/plain": [
       "85"
      ]
     },
     "execution_count": 53,
     "metadata": {},
     "output_type": "execute_result"
    }
   ],
   "source": [
    "len(enc.categories_[0])"
   ]
  },
  {
   "cell_type": "code",
   "execution_count": 54,
   "metadata": {},
   "outputs": [],
   "source": [
    "sparse_one_hot = enc.transform(df_ml.session_chamber.values.reshape(-1,1))"
   ]
  },
  {
   "cell_type": "code",
   "execution_count": 55,
   "metadata": {},
   "outputs": [],
   "source": [
    "df_ml_x = np.concatenate((df_ml[['partisan_lean', 'text_length']].values, sparse_one_hot.toarray()), axis=1)"
   ]
  },
  {
   "cell_type": "markdown",
   "metadata": {},
   "source": [
    "#### ML Work"
   ]
  },
  {
   "cell_type": "code",
   "execution_count": 56,
   "metadata": {},
   "outputs": [],
   "source": [
    "(X_train, X_test, Y_train, Y_test) = train_test_split(df_ml_x, df_ml_y, test_size=0.2)"
   ]
  },
  {
   "cell_type": "code",
   "execution_count": 57,
   "metadata": {},
   "outputs": [],
   "source": [
    "import xgboost as xgb\n",
    "from sklearn.metrics import auc, roc_curve"
   ]
  },
  {
   "cell_type": "code",
   "execution_count": 58,
   "metadata": {},
   "outputs": [
    {
     "data": {
      "text/plain": [
       "array([[0],\n",
       "       [1],\n",
       "       [0],\n",
       "       ...,\n",
       "       [1],\n",
       "       [0],\n",
       "       [0]], dtype=object)"
      ]
     },
     "execution_count": 58,
     "metadata": {},
     "output_type": "execute_result"
    }
   ],
   "source": [
    "Y_train"
   ]
  },
  {
   "cell_type": "code",
   "execution_count": 59,
   "metadata": {},
   "outputs": [],
   "source": [
    "dtrain = xgb.DMatrix(X_train, label = Y_train)\n",
    "dtest  = xgb.DMatrix(X_test,  label = Y_test)\n"
   ]
  },
  {
   "cell_type": "code",
   "execution_count": 60,
   "metadata": {},
   "outputs": [],
   "source": [
    "param = {'max_depth': 20, 'eta': 1, 'objective': 'binary:logistic', 'eval_metric': 'auc'}"
   ]
  },
  {
   "cell_type": "code",
   "execution_count": 61,
   "metadata": {},
   "outputs": [],
   "source": [
    "bst = xgb.train(param, dtrain, 10)"
   ]
  },
  {
   "cell_type": "code",
   "execution_count": 62,
   "metadata": {},
   "outputs": [],
   "source": [
    "ypred = bst.predict(dtest)"
   ]
  },
  {
   "cell_type": "code",
   "execution_count": 63,
   "metadata": {},
   "outputs": [
    {
     "data": {
      "text/plain": [
       "array([0.09289462, 0.2273753 , 0.04912949, ..., 0.16125429, 0.20131342,\n",
       "       0.18518847], dtype=float32)"
      ]
     },
     "execution_count": 63,
     "metadata": {},
     "output_type": "execute_result"
    }
   ],
   "source": [
    "ypred"
   ]
  },
  {
   "cell_type": "code",
   "execution_count": 64,
   "metadata": {},
   "outputs": [
    {
     "data": {
      "text/plain": [
       "<AxesSubplot:title={'center':'Feature importance'}, xlabel='F score', ylabel='Features'>"
      ]
     },
     "execution_count": 64,
     "metadata": {},
     "output_type": "execute_result"
    },
    {
     "data": {
      "image/png": "[encoded data removed]",
      "text/plain": [
       "<Figure size 432x288 with 1 Axes>"
      ]
     },
     "metadata": {
      "needs_background": "light"
     },
     "output_type": "display_data"
    }
   ],
   "source": [
    "xgb.plot_importance(bst)"
   ]
  },
  {
   "cell_type": "code",
   "execution_count": 65,
   "metadata": {},
   "outputs": [
    {
     "data": {
      "text/plain": [
       "(99252,)"
      ]
     },
     "execution_count": 65,
     "metadata": {},
     "output_type": "execute_result"
    }
   ],
   "source": [
    "#roc_curve(Y_test, ypred)\n",
    "Y_test.reshape(-1).shape"
   ]
  },
  {
   "cell_type": "code",
   "execution_count": 66,
   "metadata": {},
   "outputs": [
    {
     "data": {
      "text/plain": [
       "array([0, 0, 0, 1, 1, 0, 0, 0, 0, 1])"
      ]
     },
     "execution_count": 66,
     "metadata": {},
     "output_type": "execute_result"
    }
   ],
   "source": [
    "Y_test.astype(int)[:10,0]"
   ]
  },
  {
   "cell_type": "code",
   "execution_count": 67,
   "metadata": {},
   "outputs": [
    {
     "data": {
      "text/plain": [
       "(99252,)"
      ]
     },
     "execution_count": 67,
     "metadata": {},
     "output_type": "execute_result"
    }
   ],
   "source": [
    "ypred.shape"
   ]
  },
  {
   "cell_type": "code",
   "execution_count": 68,
   "metadata": {},
   "outputs": [],
   "source": [
    "fpr, tpr, thresholds = roc_curve(Y_test.astype(int).reshape(-1), ypred, pos_label=1)"
   ]
  },
  {
   "cell_type": "code",
   "execution_count": 69,
   "metadata": {},
   "outputs": [],
   "source": [
    "from sklearn.metrics import roc_auc_score, classification_report"
   ]
  },
  {
   "cell_type": "code",
   "execution_count": 70,
   "metadata": {},
   "outputs": [
    {
     "data": {
      "text/plain": [
       "0.8159590253045413"
      ]
     },
     "execution_count": 70,
     "metadata": {},
     "output_type": "execute_result"
    }
   ],
   "source": [
    "roc_auc_score(Y_test.astype(int).reshape(-1), ypred)"
   ]
  },
  {
   "cell_type": "code",
   "execution_count": 71,
   "metadata": {},
   "outputs": [
    {
     "data": {
      "text/plain": [
       "array([False, False, False, ..., False, False, False])"
      ]
     },
     "execution_count": 71,
     "metadata": {},
     "output_type": "execute_result"
    }
   ],
   "source": [
    "ypred > 0.5"
   ]
  },
  {
   "cell_type": "code",
   "execution_count": 72,
   "metadata": {},
   "outputs": [],
   "source": [
    "cr = classification_report(Y_test.astype(int).reshape(-1), ypred > 0.5)"
   ]
  },
  {
   "cell_type": "code",
   "execution_count": 73,
   "metadata": {},
   "outputs": [
    {
     "name": "stdout",
     "output_type": "stream",
     "text": [
      "              precision    recall  f1-score   support\n",
      "\n",
      "           0       0.82      0.89      0.86     72943\n",
      "           1       0.60      0.48      0.53     26309\n",
      "\n",
      "    accuracy                           0.78     99252\n",
      "   macro avg       0.71      0.68      0.69     99252\n",
      "weighted avg       0.77      0.78      0.77     99252\n",
      "\n"
     ]
    }
   ],
   "source": [
    "print(cr)"
   ]
  },
  {
   "cell_type": "code",
   "execution_count": null,
   "metadata": {},
   "outputs": [],
   "source": []
  }
 ],
 "metadata": {
  "kernelspec": {
   "display_name": "govhawk_ml_env",
   "language": "python",
   "name": "govhawk_ml_env"
  },
  "language_info": {
   "codemirror_mode": {
    "name": "ipython",
    "version": 3
   },
   "file_extension": ".py",
   "mimetype": "text/x-python",
   "name": "python",
   "nbconvert_exporter": "python",
   "pygments_lexer": "ipython3",
   "version": "3.8.5"
  }
 },
 "nbformat": 4,
 "nbformat_minor": 4
}
