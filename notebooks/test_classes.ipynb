{
 "cells": [
  {
   "cell_type": "code",
   "execution_count": 1,
   "id": "smooth-filter",
   "metadata": {},
   "outputs": [],
   "source": [
    "%load_ext autoreload\n",
    "%autoreload 2"
   ]
  },
  {
   "cell_type": "code",
   "execution_count": 11,
   "id": "northern-illustration",
   "metadata": {},
   "outputs": [],
   "source": [
    "import numpy as np\n",
    "import pandas as pd\n",
    "import tensorflow as tf\n",
    "import sys\n",
    "import os\n",
    "from sklearn.preprocessing import LabelEncoder\n",
    "import datetime\n",
    "from src.data.read_parallel import read_parallel_local\n",
    "import matplotlib.pyplot as plt"
   ]
  },
  {
   "cell_type": "code",
   "execution_count": 12,
   "id": "driving-intermediate",
   "metadata": {},
   "outputs": [
    {
     "name": "stdout",
     "output_type": "stream",
     "text": [
      "Original number of examples: 334\n",
      "Reduced number of examples:  334\n",
      "Took 0.006455898284912109 min to open 334 files with 20 processes.\n"
     ]
    }
   ],
   "source": [
    "REDUCE_BY_FACTOR = 1 # Make the dataset smaller for development purposes\n",
    "train_test_ratio = 0.91\n",
    "train_valid_ratio = 0.90\n",
    "\n",
    "if 'DATA_VOL' not in os.environ:\n",
    "    # Manually set:\n",
    "    DATA_VOL = '/datavol/'\n",
    "else:\n",
    "    DATA_VOL = os.environ['DATA_VOL']\n",
    "    \n",
    "# Pre-wrangled metadata\n",
    "df = pd.read_csv(\"../references/derived/ml_data.csv\", encoding=\"latin1\", parse_dates=True)\n",
    "df.id = df.id.astype(int)    \n",
    "print(f\"Original number of examples: {len(df)}\")\n",
    "df = df.sample(n=int(len(df)/REDUCE_BY_FACTOR)) #\n",
    "print(f\"Reduced number of examples:  {len(df)}\")\n",
    "\n",
    "tmp = read_parallel_local(df['id'], DATA_VOL + \"/clean/\")\n",
    "df['text'] = tmp\n",
    "\n",
    "df = df.reset_index(drop=True)\n",
    "sc_id_encoder = LabelEncoder()\n",
    "df['sc_id_cat'] = sc_id_encoder.fit_transform(df['sc_id'])"
   ]
  },
  {
   "cell_type": "code",
   "execution_count": 2,
   "id": "copyrighted-christianity",
   "metadata": {},
   "outputs": [],
   "source": [
    "from src.models.data_loader import *\n",
    "from transformers import LongformerTokenizer"
   ]
  },
  {
   "cell_type": "code",
   "execution_count": 40,
   "id": "supposed-citation",
   "metadata": {},
   "outputs": [],
   "source": [
    "config = {}\n",
    "config['max_length'] = 128\n",
    "config['train_batch_size'] = 4\n",
    "config['testing'] = False\n",
    "config['train_test_ratio'] = 0.91\n",
    "config['train_valid_ratio'] = 0.90 \n",
    "config['tokenizer'] = LongformerTokenizer.from_pretrained('allenai/longformer-base-4096')\n",
    "config['n_sc_id_classes'] = len(sc_id_encoder.classes_)\n",
    "config['checkpoint_path'] = \"todo\"\n",
    "config['log_dir'] = \"todo\"\n",
    "                                \n",
    "#a = legislationDatasetPartisanLean(config)"
   ]
  },
  {
   "cell_type": "code",
   "execution_count": 41,
   "id": "taken-resident",
   "metadata": {},
   "outputs": [],
   "source": [
    "import tensorflow as tf"
   ]
  },
  {
   "cell_type": "code",
   "execution_count": 42,
   "id": "right-riding",
   "metadata": {},
   "outputs": [],
   "source": [
    "from src.models.deeplegis import *"
   ]
  },
  {
   "cell_type": "code",
   "execution_count": 43,
   "id": "animated-crack",
   "metadata": {},
   "outputs": [],
   "source": [
    "b = deepLegisAll(config)"
   ]
  },
  {
   "cell_type": "code",
   "execution_count": 44,
   "id": "consolidated-sphere",
   "metadata": {},
   "outputs": [
    {
     "name": "stdout",
     "output_type": "stream",
     "text": [
      "Training size: (272, 8)\n",
      "Validation size: (31, 8)\n",
      "Test size: (31, 8)\n"
     ]
    }
   ],
   "source": [
    "b.load_data(df)"
   ]
  },
  {
   "cell_type": "code",
   "execution_count": 46,
   "id": "smoking-hawaii",
   "metadata": {},
   "outputs": [
    {
     "name": "stdout",
     "output_type": "stream",
     "text": [
      "({'input_ids': <tf.Tensor: shape=(4, 128), dtype=int32, numpy=\n",
      "array([[    0,    11,     5,    76,     9,    84, 30722,    80,  7673,\n",
      "        40126,    41,  1760,    28,    24, 14673,    30,     5, 22437,\n",
      "            8,   790,     9,  4844,    11,   937,   461, 24228,    35,\n",
      "          564,    35,   134, 14423,     8,  2270,  8555,  1676,   131,\n",
      "         6332,     4,   910, 11146, 18461,    12,   119,    35,   246,\n",
      "            6,   939,    16, 29643,     8,   769,   225, 29179,     7,\n",
      "         1166,    25,  3905,    35,   411,   453,  3873,    30,     5,\n",
      "         2318,     6,     9,  2661,  5658,    28,  4844,     9,   284,\n",
      "         5799,  5228,    31, 34383, 11693,   911,     6,    65,     9,\n",
      "         2661,  5658,    28,    10,  1131,  3696,     6,     8,    65,\n",
      "            9,  2661,  5658,    28,    10,  4095,    50,  2267,     4,\n",
      "           65,   919,     9,     5,   790,     9,  4844,     6,  3873,\n",
      "           30,     5,  5385,     9,     5,   790,     9,  4844,     4,\n",
      "           65,   919,     9,     5, 22437,     6,  3873,    30,     5,\n",
      "          394,     2],\n",
      "       [    0,    11,     5,    76,     9,    84, 30722,    80,  7673,\n",
      "        40126,    41,  1760,  1437,    28,    24, 14673,    30,     5,\n",
      "        22437,     8,   790,     9,  4844,    11,   937,   461, 24228,\n",
      "           35,  3459,  8741,  2819,  2526,   131,  3459,  8741,  1007,\n",
      "         4050,     4, 19338,   910, 11146,  2491,   176,    12,   506,\n",
      "           35,   306,     6, 46814,     7,  1166,    25,  3905,    35,\n",
      "        46814,     4,  1380, 46814,  1437,  5658,   680,     5,   931,\n",
      "            9,  4382,    31,   143,     9,     5,   511,     6,  1286,\n",
      "            5,  1300,   880,  2513,  2052,     7, 10408, 16705,  3503,\n",
      "         4832,  4973, 36782,  4233,   519,    10,  4200,   766, 29098,\n",
      "         2148,     9,   475, 12240,    50,   540,     4, 25139,  1123,\n",
      "            4,  1437,  8741,  1007,  1391,   131,  1162,     4, 19338,\n",
      "          910, 11146,  2491,   176,    12,   506,    35,   698,     6,\n",
      "        46814,     7,  1166,    25,  3905,    35, 46814,     4,  1786,\n",
      "           11,     2],\n",
      "       [    0,   579,   326,    10,   326,   364,  1021,   856,   295,\n",
      "          364,   885,  1423,  1021,   910,   449,  1675,  5453,   939,\n",
      "          295,   579,   364,   295,    10,   326,   364, 10408, 16705,\n",
      "          954,  2942,    30, 22583,     4,    50,  5967,  1166,  2330,\n",
      "            8,  2740, 11118,     6,     8,    77, 11118,     7,    28,\n",
      "         2021,     7,     5,  1540,    15,  1007,     8, 15601,    41,\n",
      "         1760,     7, 19338,     5,   285,   544,   488,     6,     5,\n",
      "         4178,   488,     8,     5,   285,   474,   488,     6,    11,\n",
      "         9355,     7,     5,  2591,     9,     5,   474,     6,  1078,\n",
      "            8,  4042,   659,     9,  1321,  3606,  4042,   872,    25,\n",
      "            5,   898,     9,     5,  1392,    50,  6803,     9,  4051,\n",
      "         3459,  3451,     5,    82,     9,     5,   194,     9,    92,\n",
      "         1423,  9657,     6,  4625,    11, 22437,     8,  6559,     6,\n",
      "          109, 17890,    25,  3905,    35,   765,  1270,     4,    42,\n",
      "         1760,     2],\n",
      "       [    0,    92,  1423,  9657,   194,  6559,  5385,   512,   462,\n",
      "          364,     4,    37,  1988,   324,   742,  1437,  1437,  1437,\n",
      "        48882,   531,    28,  9778,     7,  5083,  1217,    42,  1842,\n",
      "            4,  1437,  1087,   117, 12651,  2163,  1540,   947,   282,\n",
      "        39596, 45547,  1929,   947,   282, 39596, 45547,  8168,   784,\n",
      "        13597,  8421,   947,   282, 39596, 14406,    73,  9981, 26083,\n",
      "          579,   151,  5067,  4819,    35,  1087,   117,   579,   151,\n",
      "         5067,   359,   282, 39596,   276,    25,   276,    25,   359,\n",
      "          282, 39596,  9242, 16785,  1488,   359,   282, 39596,   740,\n",
      "        16497,  6852,   338,  2075,  7889,   298, 20779,   359,   282,\n",
      "        39596, 36769,  1872,   642,  6852,   338,   359,   282, 39596,\n",
      "         1606,  1368,  1970,   784,   359,   282, 39596, 16009,     7,\n",
      "           45,  4945,     5,  1945,     9,    41,  3477,   848,    15,\n",
      "           10,  6418,  3358,    29,   151,  5067,  2788,    35,   194,\n",
      "            9,     2]], dtype=int32)>, 'partisan_lean': <tf.Tensor: shape=(4,), dtype=float32, numpy=array([0.6082628, 0.6082628, 0.7381234, 0.7381234], dtype=float32)>, 'version_number': <tf.Tensor: shape=(4,), dtype=float32, numpy=array([1., 1., 2., 1.], dtype=float32)>, 'sc_id': <tf.Tensor: shape=(4, 16), dtype=float32, numpy=\n",
      "array([[0., 0., 0., 0., 0., 0., 0., 0., 0., 0., 0., 0., 0., 0., 1., 0.],\n",
      "       [0., 0., 0., 0., 0., 0., 0., 0., 0., 0., 0., 0., 0., 0., 1., 0.],\n",
      "       [0., 0., 0., 0., 0., 0., 0., 0., 0., 0., 0., 0., 0., 0., 0., 1.],\n",
      "       [0., 0., 0., 0., 0., 0., 0., 0., 0., 0., 0., 0., 0., 0., 0., 1.]],\n",
      "      dtype=float32)>}, <tf.Tensor: shape=(4,), dtype=int32, numpy=array([1, 0, 0, 0], dtype=int32)>)\n"
     ]
    }
   ],
   "source": [
    "for elem in b.train_batches.take(1):\n",
    "    print(elem)"
   ]
  },
  {
   "cell_type": "code",
   "execution_count": 34,
   "id": "resistant-processor",
   "metadata": {},
   "outputs": [],
   "source": [
    "b.build()"
   ]
  },
  {
   "cell_type": "code",
   "execution_count": 35,
   "id": "thick-feeling",
   "metadata": {},
   "outputs": [
    {
     "name": "stdout",
     "output_type": "stream",
     "text": [
      "Model: \"model_1\"\n",
      "__________________________________________________________________________________________________\n",
      "Layer (type)                    Output Shape         Param #     Connected to                     \n",
      "==================================================================================================\n",
      "input_ids (InputLayer)          [(None, 128)]        0                                            \n",
      "__________________________________________________________________________________________________\n",
      "longformer (TFLongformerMainLay TFLongformerBaseMode 148068864   input_ids[0][0]                  \n",
      "__________________________________________________________________________________________________\n",
      "tf.__operators__.getitem_1 (Sli (None, 768)          0           longformer[3][0]                 \n",
      "__________________________________________________________________________________________________\n",
      "dropout_202 (Dropout)           (None, 768)          0           tf.__operators__.getitem_1[0][0] \n",
      "__________________________________________________________________________________________________\n",
      "partisan_lean (InputLayer)      [(None, 1)]          0                                            \n",
      "__________________________________________________________________________________________________\n",
      "version_number (InputLayer)     [(None, 1)]          0                                            \n",
      "__________________________________________________________________________________________________\n",
      "sc_id (InputLayer)              [(None, 16)]         0                                            \n",
      "__________________________________________________________________________________________________\n",
      "tf.concat (TFOpLambda)          (None, 786)          0           dropout_202[0][0]                \n",
      "                                                                 partisan_lean[0][0]              \n",
      "                                                                 version_number[0][0]             \n",
      "                                                                 sc_id[0][0]                      \n",
      "__________________________________________________________________________________________________\n",
      "dense_2 (Dense)                 (None, 700)          550900      tf.concat[0][0]                  \n",
      "__________________________________________________________________________________________________\n",
      "dropout_203 (Dropout)           (None, 700)          0           dense_2[0][0]                    \n",
      "__________________________________________________________________________________________________\n",
      "dense_3 (Dense)                 (None, 1)            701         dropout_203[0][0]                \n",
      "==================================================================================================\n",
      "Total params: 148,620,465\n",
      "Trainable params: 148,620,465\n",
      "Non-trainable params: 0\n",
      "__________________________________________________________________________________________________\n"
     ]
    }
   ],
   "source": [
    "b.deep_legis_model.summary()"
   ]
  },
  {
   "cell_type": "code",
   "execution_count": null,
   "id": "sound-pittsburgh",
   "metadata": {},
   "outputs": [],
   "source": []
  }
 ],
 "metadata": {
  "kernelspec": {
   "display_name": "Python 3",
   "language": "python",
   "name": "python3"
  },
  "language_info": {
   "codemirror_mode": {
    "name": "ipython",
    "version": 3
   },
   "file_extension": ".py",
   "mimetype": "text/x-python",
   "name": "python",
   "nbconvert_exporter": "python",
   "pygments_lexer": "ipython3",
   "version": "3.8.7"
  }
 },
 "nbformat": 4,
 "nbformat_minor": 5
}
