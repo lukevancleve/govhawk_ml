{
 "cells": [
  {
   "cell_type": "markdown",
   "metadata": {},
   "source": [
    "# Basic ML model"
   ]
  },
  {
   "cell_type": "code",
   "execution_count": 1,
   "metadata": {},
   "outputs": [],
   "source": [
    "import pandas as pd\n"
   ]
  },
  {
   "cell_type": "code",
   "execution_count": 13,
   "metadata": {},
   "outputs": [],
   "source": [
    "bv = pd.read_csv(\"../data/external/bill_version.csv\", sep=\";\", encoding=\"latin1\", parse_dates=True).rename(columns={'id': \"version_id\"})\n",
    "bills = pd.read_csv(\"../data/external/bill.csv\", sep=\";\", encoding=\"latin1\", parse_dates=True).rename(columns={'id': 'bill_id'})\n",
    "bv_features = pd.read_csv(\"../data/derived/basic_version_features.csv\", sep=\",\", encoding=\"latin1\", parse_dates=True).rename(columns={'id': 'version_id'})\n",
    "partisan_lean = pd.read_csv(\"../data/derived/partisan_lean.csv\", sep=\",\", encoding=\"latin1\", parse_dates=True)\n"
   ]
  },
  {
   "cell_type": "code",
   "execution_count": 3,
   "metadata": {},
   "outputs": [
    {
     "data": {
      "text/html": [
       "<div>\n",
       "<style scoped>\n",
       "    .dataframe tbody tr th:only-of-type {\n",
       "        vertical-align: middle;\n",
       "    }\n",
       "\n",
       "    .dataframe tbody tr th {\n",
       "        vertical-align: top;\n",
       "    }\n",
       "\n",
       "    .dataframe thead th {\n",
       "        text-align: right;\n",
       "    }\n",
       "</style>\n",
       "<table border=\"1\" class=\"dataframe\">\n",
       "  <thead>\n",
       "    <tr style=\"text-align: right;\">\n",
       "      <th></th>\n",
       "      <th>bill_id</th>\n",
       "      <th>os_bill_id</th>\n",
       "      <th>name</th>\n",
       "      <th>state_id</th>\n",
       "      <th>chamber_id</th>\n",
       "      <th>session_id</th>\n",
       "      <th>title</th>\n",
       "      <th>created_at</th>\n",
       "      <th>updated_at</th>\n",
       "      <th>first_action</th>\n",
       "      <th>last_action</th>\n",
       "      <th>passed_lower</th>\n",
       "      <th>passed_upper</th>\n",
       "      <th>signed</th>\n",
       "      <th>division_id</th>\n",
       "      <th>bill_prefix</th>\n",
       "      <th>bill_number</th>\n",
       "    </tr>\n",
       "  </thead>\n",
       "  <tbody>\n",
       "    <tr>\n",
       "      <th>0</th>\n",
       "      <td>830501</td>\n",
       "      <td>NaN</td>\n",
       "      <td>PC 101</td>\n",
       "      <td>40</td>\n",
       "      <td>2.0</td>\n",
       "      <td>475</td>\n",
       "      <td>Para ordenar a todo patrono notificar por escr...</td>\n",
       "      <td>2017-01-06 16:46:38</td>\n",
       "      <td>2020-06-26 03:32:36</td>\n",
       "      <td>2017-01-02 04:00:00</td>\n",
       "      <td>2020-06-25 04:00:00</td>\n",
       "      <td>NaN</td>\n",
       "      <td>NaN</td>\n",
       "      <td>NaN</td>\n",
       "      <td>156409</td>\n",
       "      <td>PC</td>\n",
       "      <td>101</td>\n",
       "    </tr>\n",
       "  </tbody>\n",
       "</table>\n",
       "</div>"
      ],
      "text/plain": [
       "   bill_id  os_bill_id    name  state_id  chamber_id  session_id  \\\n",
       "0   830501         NaN  PC 101        40         2.0         475   \n",
       "\n",
       "                                               title           created_at  \\\n",
       "0  Para ordenar a todo patrono notificar por escr...  2017-01-06 16:46:38   \n",
       "\n",
       "            updated_at         first_action          last_action passed_lower  \\\n",
       "0  2020-06-26 03:32:36  2017-01-02 04:00:00  2020-06-25 04:00:00          NaN   \n",
       "\n",
       "  passed_upper signed  division_id bill_prefix bill_number  \n",
       "0          NaN    NaN       156409          PC         101  "
      ]
     },
     "execution_count": 3,
     "metadata": {},
     "output_type": "execute_result"
    }
   ],
   "source": [
    "bills.head(n=1)"
   ]
  },
  {
   "cell_type": "code",
   "execution_count": 4,
   "metadata": {
    "scrolled": true
   },
   "outputs": [
    {
     "data": {
      "text/html": [
       "<div>\n",
       "<style scoped>\n",
       "    .dataframe tbody tr th:only-of-type {\n",
       "        vertical-align: middle;\n",
       "    }\n",
       "\n",
       "    .dataframe tbody tr th {\n",
       "        vertical-align: top;\n",
       "    }\n",
       "\n",
       "    .dataframe thead th {\n",
       "        text-align: right;\n",
       "    }\n",
       "</style>\n",
       "<table border=\"1\" class=\"dataframe\">\n",
       "  <thead>\n",
       "    <tr style=\"text-align: right;\">\n",
       "      <th></th>\n",
       "      <th>version_id</th>\n",
       "      <th>name</th>\n",
       "      <th>mimetype</th>\n",
       "      <th>os_doc_id</th>\n",
       "      <th>url</th>\n",
       "      <th>bill_id</th>\n",
       "      <th>mimetype_id</th>\n",
       "      <th>bill_printing_id</th>\n",
       "      <th>document_type_id</th>\n",
       "      <th>filesize</th>\n",
       "      <th>plain_filesize</th>\n",
       "      <th>bypass</th>\n",
       "      <th>created_at</th>\n",
       "      <th>updated_at</th>\n",
       "    </tr>\n",
       "  </thead>\n",
       "  <tbody>\n",
       "    <tr>\n",
       "      <th>0</th>\n",
       "      <td>1528347</td>\n",
       "      <td>eh</td>\n",
       "      <td>text/html</td>\n",
       "      <td>NaN</td>\n",
       "      <td>https://www.gpo.gov/fdsys/pkg/BILLS-115hres3eh...</td>\n",
       "      <td>827210</td>\n",
       "      <td>2.0</td>\n",
       "      <td>284614.0</td>\n",
       "      <td>NaN</td>\n",
       "      <td>NaN</td>\n",
       "      <td>NaN</td>\n",
       "      <td>0</td>\n",
       "      <td>NaN</td>\n",
       "      <td>2019-01-04 04:00:04</td>\n",
       "    </tr>\n",
       "  </tbody>\n",
       "</table>\n",
       "</div>"
      ],
      "text/plain": [
       "   version_id name   mimetype  os_doc_id  \\\n",
       "0     1528347   eh  text/html        NaN   \n",
       "\n",
       "                                                 url  bill_id  mimetype_id  \\\n",
       "0  https://www.gpo.gov/fdsys/pkg/BILLS-115hres3eh...   827210          2.0   \n",
       "\n",
       "   bill_printing_id  document_type_id  filesize  plain_filesize  bypass  \\\n",
       "0          284614.0               NaN       NaN             NaN       0   \n",
       "\n",
       "  created_at           updated_at  \n",
       "0        NaN  2019-01-04 04:00:04  "
      ]
     },
     "execution_count": 4,
     "metadata": {},
     "output_type": "execute_result"
    }
   ],
   "source": [
    "bv.head(n=1)"
   ]
  },
  {
   "cell_type": "code",
   "execution_count": 10,
   "metadata": {},
   "outputs": [],
   "source": [
    "df = bv[['version_id', 'bill_id']].merge(bills[['bill_id', 'chamber_id', 'session_id', 'signed']])\n",
    "df2 = df.merge(partisan_lean[['session_id', 'chamber_id', 'partisan_lean']], on=['session_id', 'chamber_id'])"
   ]
  },
  {
   "cell_type": "code",
   "execution_count": 14,
   "metadata": {},
   "outputs": [],
   "source": [
    "df_ml = df2.merge(bv_features, on='version_id')\n"
   ]
  },
  {
   "cell_type": "code",
   "execution_count": 24,
   "metadata": {},
   "outputs": [],
   "source": [
    "df_ml.loc[df_ml.signed.isna(), 'signed'] = 0\n",
    "df_ml.loc[df_ml.signed != 0, 'signed'] = 1"
   ]
  },
  {
   "cell_type": "code",
   "execution_count": 25,
   "metadata": {
    "scrolled": true
   },
   "outputs": [
    {
     "data": {
      "text/html": [
       "<div>\n",
       "<style scoped>\n",
       "    .dataframe tbody tr th:only-of-type {\n",
       "        vertical-align: middle;\n",
       "    }\n",
       "\n",
       "    .dataframe tbody tr th {\n",
       "        vertical-align: top;\n",
       "    }\n",
       "\n",
       "    .dataframe thead th {\n",
       "        text-align: right;\n",
       "    }\n",
       "</style>\n",
       "<table border=\"1\" class=\"dataframe\">\n",
       "  <thead>\n",
       "    <tr style=\"text-align: right;\">\n",
       "      <th></th>\n",
       "      <th>version_id</th>\n",
       "      <th>bill_id</th>\n",
       "      <th>chamber_id</th>\n",
       "      <th>session_id</th>\n",
       "      <th>signed</th>\n",
       "      <th>partisan_lean</th>\n",
       "      <th>text_length</th>\n",
       "    </tr>\n",
       "  </thead>\n",
       "  <tbody>\n",
       "    <tr>\n",
       "      <th>0</th>\n",
       "      <td>2119301</td>\n",
       "      <td>1092981</td>\n",
       "      <td>1.0</td>\n",
       "      <td>562</td>\n",
       "      <td>0</td>\n",
       "      <td>0.236118</td>\n",
       "      <td>43841</td>\n",
       "    </tr>\n",
       "    <tr>\n",
       "      <th>1</th>\n",
       "      <td>2708948</td>\n",
       "      <td>1092981</td>\n",
       "      <td>1.0</td>\n",
       "      <td>562</td>\n",
       "      <td>0</td>\n",
       "      <td>0.236118</td>\n",
       "      <td>53832</td>\n",
       "    </tr>\n",
       "    <tr>\n",
       "      <th>2</th>\n",
       "      <td>2708949</td>\n",
       "      <td>1092981</td>\n",
       "      <td>1.0</td>\n",
       "      <td>562</td>\n",
       "      <td>0</td>\n",
       "      <td>0.236118</td>\n",
       "      <td>60077</td>\n",
       "    </tr>\n",
       "    <tr>\n",
       "      <th>3</th>\n",
       "      <td>2708950</td>\n",
       "      <td>1092981</td>\n",
       "      <td>1.0</td>\n",
       "      <td>562</td>\n",
       "      <td>0</td>\n",
       "      <td>0.236118</td>\n",
       "      <td>7175</td>\n",
       "    </tr>\n",
       "    <tr>\n",
       "      <th>4</th>\n",
       "      <td>2708951</td>\n",
       "      <td>1092981</td>\n",
       "      <td>1.0</td>\n",
       "      <td>562</td>\n",
       "      <td>0</td>\n",
       "      <td>0.236118</td>\n",
       "      <td>961</td>\n",
       "    </tr>\n",
       "  </tbody>\n",
       "</table>\n",
       "</div>"
      ],
      "text/plain": [
       "   version_id  bill_id  chamber_id  session_id signed  partisan_lean  \\\n",
       "0     2119301  1092981         1.0         562      0       0.236118   \n",
       "1     2708948  1092981         1.0         562      0       0.236118   \n",
       "2     2708949  1092981         1.0         562      0       0.236118   \n",
       "3     2708950  1092981         1.0         562      0       0.236118   \n",
       "4     2708951  1092981         1.0         562      0       0.236118   \n",
       "\n",
       "   text_length  \n",
       "0        43841  \n",
       "1        53832  \n",
       "2        60077  \n",
       "3         7175  \n",
       "4          961  "
      ]
     },
     "execution_count": 25,
     "metadata": {},
     "output_type": "execute_result"
    }
   ],
   "source": [
    "df_ml.head()"
   ]
  },
  {
   "cell_type": "code",
   "execution_count": 26,
   "metadata": {},
   "outputs": [],
   "source": [
    "df_ml_X = df_ml[['session_id', 'partisan_lean', 'text_length']]\n",
    "df_ml_Y = df_ml[['signed']]"
   ]
  },
  {
   "cell_type": "code",
   "execution_count": 27,
   "metadata": {},
   "outputs": [],
   "source": [
    "from sklearn.preprocessing import OneHotEncoder"
   ]
  },
  {
   "cell_type": "code",
   "execution_count": null,
   "metadata": {},
   "outputs": [],
   "source": []
  }
 ],
 "metadata": {
  "kernelspec": {
   "display_name": "govhawk_ml_env",
   "language": "python",
   "name": "govhawk_ml_env"
  },
  "language_info": {
   "codemirror_mode": {
    "name": "ipython",
    "version": 3
   },
   "file_extension": ".py",
   "mimetype": "text/x-python",
   "name": "python",
   "nbconvert_exporter": "python",
   "pygments_lexer": "ipython3",
   "version": "3.8.5"
  }
 },
 "nbformat": 4,
 "nbformat_minor": 4
}
