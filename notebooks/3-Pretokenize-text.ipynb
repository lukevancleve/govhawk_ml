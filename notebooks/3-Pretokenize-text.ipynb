{
 "cells": [
  {
   "cell_type": "code",
   "execution_count": 1,
   "id": "extensive-mathematics",
   "metadata": {},
   "outputs": [
    {
     "name": "stdout",
     "output_type": "stream",
     "text": [
      "INFO: Pandarallel will run on 6 workers.\n",
      "INFO: Pandarallel will use Memory file system to transfer data between the main process and workers.\n"
     ]
    }
   ],
   "source": [
    "%load_ext autoreload\n",
    "%autoreload 2\n",
    "import numpy as np\n",
    "import pandas as pd\n",
    "import tensorflow as tf\n",
    "import sys\n",
    "import os\n",
    "from sklearn.preprocessing import LabelEncoder\n",
    "import datetime\n",
    "import matplotlib.pyplot as plt\n",
    "\n",
    "from transformers import DistilBertTokenizer\n",
    "\n",
    "module_path = os.path.abspath(os.path.join('..'))\n",
    "if module_path not in sys.path:\n",
    "    sys.path.append(module_path)\n",
    "    \n",
    "from src.data.read_parallel import read_parallel_local\n",
    "from src.models.deeplegis import *\n",
    "from src.models.data_loader import *\n",
    "from src.models.configurationClasses import deepLegisConfig\n",
    "\n",
    "from transformers import BertTokenizerFast\n",
    "import pickle\n",
    "from pandarallel import pandarallel\n",
    "pandarallel.initialize()"
   ]
  },
  {
   "cell_type": "code",
   "execution_count": 2,
   "id": "apparent-hunter",
   "metadata": {},
   "outputs": [],
   "source": [
    "# config = deepLegisConfig(\"bert_128.json\", project_root=\"../\")\n",
    "# df, encoder = createDeepLegisDataFrame(config, read_cached=False)\n",
    "# df.to_pickle(\"/home/luke/ml_govhawk_prod_output/preprocessed_df_128.pkl\")"
   ]
  },
  {
   "cell_type": "code",
   "execution_count": 3,
   "id": "compound-disorder",
   "metadata": {},
   "outputs": [],
   "source": [
    "# config = deepLegisConfig(\"bert_512.json\", project_root=\"../\")\n",
    "# df, encoder = createDeepLegisDataFrame(config, read_cached=False)\n",
    "# df.to_pickle(\"/home/luke/ml_govhawk_prod_output/preprocessed_df_512.pkl\")"
   ]
  },
  {
   "cell_type": "code",
   "execution_count": 4,
   "id": "subsequent-evidence",
   "metadata": {},
   "outputs": [
    {
     "name": "stdout",
     "output_type": "stream",
     "text": [
      "Loading pickle file (/home/luke/ml_govhawk_prod_output/preprocessed_df_128.pkl) took 0.25059169533333353 min -  15.0355 seconds\n",
      "Original number of examples: 199646\n"
     ]
    }
   ],
   "source": [
    "from transformers import LongformerTokenizer\n",
    "config = deepLegisConfig(\"bert_128.json\", project_root=\"../\")\n",
    "df, encoder = createDeepLegisDataFrame(config, read_cached=True)"
   ]
  },
  {
   "cell_type": "code",
   "execution_count": 5,
   "id": "instrumental-walnut",
   "metadata": {},
   "outputs": [],
   "source": [
    "df = df.drop(['tokens'], axis=1)"
   ]
  },
  {
   "cell_type": "code",
   "execution_count": 3,
   "id": "turned-being",
   "metadata": {},
   "outputs": [
    {
     "name": "stdout",
     "output_type": "stream",
     "text": [
      "Loading pickle file (/home/luke/ml_govhawk_prod_output/preprocessed_df_128.pkl) took 0.0359243398833011 min -  2.1555 seconds\n",
      "Original number of examples: 199646\n",
      "Tokenized in 100.10227949545006 min -  6006.1368 seconds\n"
     ]
    },
    {
     "data": {
      "text/html": [
       "<div>\n",
       "<style scoped>\n",
       "    .dataframe tbody tr th:only-of-type {\n",
       "        vertical-align: middle;\n",
       "    }\n",
       "\n",
       "    .dataframe tbody tr th {\n",
       "        vertical-align: top;\n",
       "    }\n",
       "\n",
       "    .dataframe thead th {\n",
       "        text-align: right;\n",
       "    }\n",
       "</style>\n",
       "<table border=\"1\" class=\"dataframe\">\n",
       "  <thead>\n",
       "    <tr style=\"text-align: right;\">\n",
       "      <th></th>\n",
       "      <th>id</th>\n",
       "      <th>version_number</th>\n",
       "      <th>bill_id</th>\n",
       "      <th>signed</th>\n",
       "      <th>passed</th>\n",
       "      <th>partisan_lean</th>\n",
       "      <th>sc_id</th>\n",
       "      <th>sc_id_cat</th>\n",
       "      <th>text</th>\n",
       "      <th>tokens</th>\n",
       "    </tr>\n",
       "  </thead>\n",
       "  <tbody>\n",
       "    <tr>\n",
       "      <th>0</th>\n",
       "      <td>2708956</td>\n",
       "      <td>10</td>\n",
       "      <td>1092981</td>\n",
       "      <td>0</td>\n",
       "      <td>0</td>\n",
       "      <td>0.236118</td>\n",
       "      <td>562-1</td>\n",
       "      <td>6</td>\n",
       "      <td>amendment no. to hb0001 miller signature of s...</td>\n",
       "      <td>[101, 7450, 2053, 1012, 2000, 1044, 2497, 8889...</td>\n",
       "    </tr>\n",
       "    <tr>\n",
       "      <th>1</th>\n",
       "      <td>2127866</td>\n",
       "      <td>1</td>\n",
       "      <td>1098149</td>\n",
       "      <td>1</td>\n",
       "      <td>1</td>\n",
       "      <td>0.236118</td>\n",
       "      <td>562-1</td>\n",
       "      <td>6</td>\n",
       "      <td>&lt;billno&gt; &lt;sponsor&gt; senate joint resolution by...</td>\n",
       "      <td>[101, 1026, 3021, 3630, 1028, 1026, 10460, 102...</td>\n",
       "    </tr>\n",
       "    <tr>\n",
       "      <th>2</th>\n",
       "      <td>2127963</td>\n",
       "      <td>1</td>\n",
       "      <td>1098199</td>\n",
       "      <td>0</td>\n",
       "      <td>0</td>\n",
       "      <td>0.236118</td>\n",
       "      <td>562-1</td>\n",
       "      <td>6</td>\n",
       "      <td>&lt;billno&gt; &lt;sponsor&gt; senate bill by massey an a...</td>\n",
       "      <td>[101, 1026, 3021, 3630, 1028, 1026, 10460, 102...</td>\n",
       "    </tr>\n",
       "    <tr>\n",
       "      <th>3</th>\n",
       "      <td>2128334</td>\n",
       "      <td>1</td>\n",
       "      <td>1098465</td>\n",
       "      <td>0</td>\n",
       "      <td>0</td>\n",
       "      <td>0.236118</td>\n",
       "      <td>562-1</td>\n",
       "      <td>6</td>\n",
       "      <td>&lt;billno&gt; &lt;sponsor&gt; senate bill by gresham an ...</td>\n",
       "      <td>[101, 1026, 3021, 3630, 1028, 1026, 10460, 102...</td>\n",
       "    </tr>\n",
       "    <tr>\n",
       "      <th>4</th>\n",
       "      <td>2128986</td>\n",
       "      <td>1</td>\n",
       "      <td>1098872</td>\n",
       "      <td>1</td>\n",
       "      <td>1</td>\n",
       "      <td>0.236118</td>\n",
       "      <td>562-1</td>\n",
       "      <td>6</td>\n",
       "      <td>&lt;billno&gt; &lt;sponsor&gt; senate joint resolution by...</td>\n",
       "      <td>[101, 1026, 3021, 3630, 1028, 1026, 10460, 102...</td>\n",
       "    </tr>\n",
       "  </tbody>\n",
       "</table>\n",
       "</div>"
      ],
      "text/plain": [
       "        id  version_number  bill_id  signed  passed  partisan_lean  sc_id  \\\n",
       "0  2708956              10  1092981       0       0       0.236118  562-1   \n",
       "1  2127866               1  1098149       1       1       0.236118  562-1   \n",
       "2  2127963               1  1098199       0       0       0.236118  562-1   \n",
       "3  2128334               1  1098465       0       0       0.236118  562-1   \n",
       "4  2128986               1  1098872       1       1       0.236118  562-1   \n",
       "\n",
       "   sc_id_cat                                               text  \\\n",
       "0          6   amendment no. to hb0001 miller signature of s...   \n",
       "1          6   <billno> <sponsor> senate joint resolution by...   \n",
       "2          6   <billno> <sponsor> senate bill by massey an a...   \n",
       "3          6   <billno> <sponsor> senate bill by gresham an ...   \n",
       "4          6   <billno> <sponsor> senate joint resolution by...   \n",
       "\n",
       "                                              tokens  \n",
       "0  [101, 7450, 2053, 1012, 2000, 1044, 2497, 8889...  \n",
       "1  [101, 1026, 3021, 3630, 1028, 1026, 10460, 102...  \n",
       "2  [101, 1026, 3021, 3630, 1028, 1026, 10460, 102...  \n",
       "3  [101, 1026, 3021, 3630, 1028, 1026, 10460, 102...  \n",
       "4  [101, 1026, 3021, 3630, 1028, 1026, 10460, 102...  "
      ]
     },
     "execution_count": 3,
     "metadata": {},
     "output_type": "execute_result"
    }
   ],
   "source": [
    "## No max length. For use with longformer.\n",
    "\n",
    "\n",
    "tokenizer = LongformerTokenizer.from_pretrained('allenai/longformer-base-4096')\n",
    "def tokenizer_wrapper(text):\n",
    "    d = tokenizer(text, truncation=True, padding='max_length', max_length=4096)\n",
    "    return (d['input_ids'], d['attention_mask'])\n",
    "tic = time.perf_counter()\n",
    "ids_attention = df.text.parallel_apply( tokenizer_wrapper)\n",
    "toc = time.perf_counter()\n",
    "print(f\"Tokenized in {(toc-tic)/60.0} min -  {toc - tic:0.4f} seconds\")\n",
    "df.head()\n"
   ]
  },
  {
   "cell_type": "code",
   "execution_count": 6,
   "id": "arctic-mining",
   "metadata": {},
   "outputs": [
    {
     "data": {
      "text/plain": [
       "0    ([0, 8322, 117, 4, 7, 1368, 428, 27623, 7259, ...\n",
       "1    ([0, 28696, 24916, 2362, 15698, 28696, 32974, ...\n",
       "2    ([0, 28696, 24916, 2362, 15698, 28696, 32974, ...\n",
       "3    ([0, 28696, 24916, 2362, 15698, 28696, 32974, ...\n",
       "4    ([0, 28696, 24916, 2362, 15698, 28696, 32974, ...\n",
       "Name: text, dtype: object"
      ]
     },
     "execution_count": 6,
     "metadata": {},
     "output_type": "execute_result"
    }
   ],
   "source": [
    "pickle.dump(ids_attention, open( \"ids_attention\", \"wb\" ) )"
   ]
  },
  {
   "cell_type": "code",
   "execution_count": 6,
   "id": "signed-strategy",
   "metadata": {},
   "outputs": [],
   "source": [
    "ids_attention = pickle.load( open( \"ids_attention\", \"rb\" ) )"
   ]
  },
  {
   "cell_type": "code",
   "execution_count": 7,
   "id": "increasing-detail",
   "metadata": {},
   "outputs": [],
   "source": [
    "#ids_atten_df = pd.DataFrame(ids_attention)"
   ]
  },
  {
   "cell_type": "code",
   "execution_count": 8,
   "id": "recorded-continuity",
   "metadata": {},
   "outputs": [],
   "source": [
    "ids_atten_df = ids_attention.apply(pd.Series)"
   ]
  },
  {
   "cell_type": "code",
   "execution_count": 9,
   "id": "severe-factory",
   "metadata": {},
   "outputs": [],
   "source": [
    "ids_atten_df.columns = (\"tokens\", \"attention_mask\")\n",
    "ids_atten_df.head()\n",
    "df['tokens'] = ids_atten_df.tokens\n",
    "#df['attention_mask'] = ids_atten_df.attention_mask"
   ]
  },
  {
   "cell_type": "code",
   "execution_count": 10,
   "id": "closing-flour",
   "metadata": {},
   "outputs": [
    {
     "data": {
      "text/plain": [
       "4096"
      ]
     },
     "execution_count": 10,
     "metadata": {},
     "output_type": "execute_result"
    }
   ],
   "source": [
    "len(df.tokens[100])"
   ]
  },
  {
   "cell_type": "code",
   "execution_count": null,
   "id": "smooth-luxury",
   "metadata": {},
   "outputs": [],
   "source": [
    "df.to_pickle(\"/home/luke/ml_govhawk_prod_output/preprocessed_df_longformer_4096.pkl\")"
   ]
  },
  {
   "cell_type": "code",
   "execution_count": 21,
   "id": "registered-cursor",
   "metadata": {},
   "outputs": [],
   "source": [
    "lengths = df.tokens.parallel_apply(len)"
   ]
  },
  {
   "cell_type": "code",
   "execution_count": 27,
   "id": "ecological-stuff",
   "metadata": {},
   "outputs": [
    {
     "data": {
      "text/plain": [
       "Text(0.5, 1.0, 'Token length of bills - LongformerTokenizer')"
      ]
     },
     "execution_count": 27,
     "metadata": {},
     "output_type": "execute_result"
    },
    {
     "data": {
      "image/png": "[encoded data removed]",
      "text/plain": [
       "<Figure size 432x288 with 1 Axes>"
      ]
     },
     "metadata": {
      "needs_background": "light"
     },
     "output_type": "display_data"
    }
   ],
   "source": [
    "import seaborn\n",
    "seaborn.distplot(lengths).set_title(\"Token length of bills - LongformerTokenizer\")"
   ]
  },
  {
   "cell_type": "code",
   "execution_count": 26,
   "id": "foster-breeding",
   "metadata": {},
   "outputs": [
    {
     "data": {
      "text/plain": [
       "0.07474229386013244"
      ]
     },
     "execution_count": 26,
     "metadata": {},
     "output_type": "execute_result"
    }
   ],
   "source": [
    "np.mean(lengths==4096)"
   ]
  },
  {
   "cell_type": "code",
   "execution_count": null,
   "id": "rubber-panic",
   "metadata": {},
   "outputs": [],
   "source": [
    "np.mean(df.tokens)"
   ]
  },
  {
   "cell_type": "code",
   "execution_count": null,
   "id": "adopted-center",
   "metadata": {},
   "outputs": [],
   "source": [
    "np.median(df.tokens)"
   ]
  }
 ],
 "metadata": {
  "kernelspec": {
   "display_name": "Python 3",
   "language": "python",
   "name": "python3"
  },
  "language_info": {
   "codemirror_mode": {
    "name": "ipython",
    "version": 3
   },
   "file_extension": ".py",
   "mimetype": "text/x-python",
   "name": "python",
   "nbconvert_exporter": "python",
   "pygments_lexer": "ipython3",
   "version": "3.8.5"
  }
 },
 "nbformat": 4,
 "nbformat_minor": 5
}
