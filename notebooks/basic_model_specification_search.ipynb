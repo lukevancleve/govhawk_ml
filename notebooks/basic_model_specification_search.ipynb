{
 "cells": [
  {
   "cell_type": "code",
   "execution_count": 1,
   "metadata": {},
   "outputs": [],
   "source": [
    "# https://towardsdatascience.com/end-to-end-topic-modeling-in-python-latent-dirichlet-allocation-lda-35ce4ed6b3e0\n",
    "\n",
    "import pandas as pd\n",
    "import re\n",
    "import warnings; warnings.simplefilter('ignore')\n",
    "import numpy as np\n",
    "import warnings\n",
    "import os\n",
    "import sys\n",
    "import matplotlib.pyplot as plt\n",
    "\n",
    "warnings.filterwarnings('ignore')\n",
    "\n",
    "from src.models.lda_feature_builder import addLDA    \n",
    "from src.data.read_parallel import read_parallel_local\n",
    "from src.models.data_loader import createDeepLegisDataFrame\n",
    "from src.models.configurationClasses import deepLegisConfig\n",
    "\n",
    "config = deepLegisConfig('bert_128.json', project_root=\"../\")"
   ]
  },
  {
   "cell_type": "code",
   "execution_count": 2,
   "metadata": {},
   "outputs": [
    {
     "name": "stdout",
     "output_type": "stream",
     "text": [
      "Original number of examples: 199646\n",
      "Loading 199646 text files\n",
      "Took 12.328851099809011 min to open 199646 files with 20 processes.\n"
     ]
    }
   ],
   "source": [
    "df, encoder = createDeepLegisDataFrame(config)"
   ]
  },
  {
   "cell_type": "code",
   "execution_count": 3,
   "metadata": {},
   "outputs": [],
   "source": [
    "sc_id_counts = df[['sc_id', 'id']].groupby('sc_id').count().sort_values('id').reset_index()\n",
    "sc_id_counts = sc_id_counts[sc_id_counts.id >=20]\n",
    "sc_id_counts.shape\n",
    "df = df.merge(sc_id_counts[['sc_id']], on='sc_id')"
   ]
  },
  {
   "cell_type": "code",
   "execution_count": 4,
   "metadata": {},
   "outputs": [
    {
     "data": {
      "text/html": [
       "<div>\n",
       "<style scoped>\n",
       "    .dataframe tbody tr th:only-of-type {\n",
       "        vertical-align: middle;\n",
       "    }\n",
       "\n",
       "    .dataframe tbody tr th {\n",
       "        vertical-align: top;\n",
       "    }\n",
       "\n",
       "    .dataframe thead th {\n",
       "        text-align: right;\n",
       "    }\n",
       "</style>\n",
       "<table border=\"1\" class=\"dataframe\">\n",
       "  <thead>\n",
       "    <tr style=\"text-align: right;\">\n",
       "      <th></th>\n",
       "      <th>id</th>\n",
       "      <th>version_number</th>\n",
       "      <th>bill_id</th>\n",
       "      <th>signed</th>\n",
       "      <th>passed</th>\n",
       "      <th>partisan_lean</th>\n",
       "      <th>sc_id</th>\n",
       "      <th>sc_id_cat</th>\n",
       "      <th>text</th>\n",
       "    </tr>\n",
       "  </thead>\n",
       "  <tbody>\n",
       "    <tr>\n",
       "      <th>0</th>\n",
       "      <td>2708956</td>\n",
       "      <td>10</td>\n",
       "      <td>1092981</td>\n",
       "      <td>0</td>\n",
       "      <td>0</td>\n",
       "      <td>0.236118</td>\n",
       "      <td>562-1</td>\n",
       "      <td>6</td>\n",
       "      <td>amendment no. to hb0001 miller signature of s...</td>\n",
       "    </tr>\n",
       "    <tr>\n",
       "      <th>1</th>\n",
       "      <td>2127866</td>\n",
       "      <td>1</td>\n",
       "      <td>1098149</td>\n",
       "      <td>1</td>\n",
       "      <td>1</td>\n",
       "      <td>0.236118</td>\n",
       "      <td>562-1</td>\n",
       "      <td>6</td>\n",
       "      <td>&lt;billno&gt; &lt;sponsor&gt; senate joint resolution by...</td>\n",
       "    </tr>\n",
       "    <tr>\n",
       "      <th>2</th>\n",
       "      <td>2127963</td>\n",
       "      <td>1</td>\n",
       "      <td>1098199</td>\n",
       "      <td>0</td>\n",
       "      <td>0</td>\n",
       "      <td>0.236118</td>\n",
       "      <td>562-1</td>\n",
       "      <td>6</td>\n",
       "      <td>&lt;billno&gt; &lt;sponsor&gt; senate bill by massey an a...</td>\n",
       "    </tr>\n",
       "    <tr>\n",
       "      <th>3</th>\n",
       "      <td>2128334</td>\n",
       "      <td>1</td>\n",
       "      <td>1098465</td>\n",
       "      <td>0</td>\n",
       "      <td>0</td>\n",
       "      <td>0.236118</td>\n",
       "      <td>562-1</td>\n",
       "      <td>6</td>\n",
       "      <td>&lt;billno&gt; &lt;sponsor&gt; senate bill by gresham an ...</td>\n",
       "    </tr>\n",
       "    <tr>\n",
       "      <th>4</th>\n",
       "      <td>2128986</td>\n",
       "      <td>1</td>\n",
       "      <td>1098872</td>\n",
       "      <td>1</td>\n",
       "      <td>1</td>\n",
       "      <td>0.236118</td>\n",
       "      <td>562-1</td>\n",
       "      <td>6</td>\n",
       "      <td>&lt;billno&gt; &lt;sponsor&gt; senate joint resolution by...</td>\n",
       "    </tr>\n",
       "  </tbody>\n",
       "</table>\n",
       "</div>"
      ],
      "text/plain": [
       "        id  version_number  bill_id  signed  passed  partisan_lean  sc_id  \\\n",
       "0  2708956              10  1092981       0       0       0.236118  562-1   \n",
       "1  2127866               1  1098149       1       1       0.236118  562-1   \n",
       "2  2127963               1  1098199       0       0       0.236118  562-1   \n",
       "3  2128334               1  1098465       0       0       0.236118  562-1   \n",
       "4  2128986               1  1098872       1       1       0.236118  562-1   \n",
       "\n",
       "   sc_id_cat                                               text  \n",
       "0          6   amendment no. to hb0001 miller signature of s...  \n",
       "1          6   <billno> <sponsor> senate joint resolution by...  \n",
       "2          6   <billno> <sponsor> senate bill by massey an a...  \n",
       "3          6   <billno> <sponsor> senate bill by gresham an ...  \n",
       "4          6   <billno> <sponsor> senate joint resolution by...  "
      ]
     },
     "execution_count": 4,
     "metadata": {},
     "output_type": "execute_result"
    }
   ],
   "source": [
    "df.head()"
   ]
  },
  {
   "cell_type": "code",
   "execution_count": 5,
   "metadata": {},
   "outputs": [],
   "source": [
    "import gensim\n",
    "from gensim.utils import simple_preprocess\n",
    "import pickle\n",
    "\n",
    "def dense_vector(ldav, n):\n",
    "    v = [0]*n\n",
    "    for (i, p) in ldav:\n",
    "        v[i] = p\n",
    "    return tuple(v)\n",
    "\n",
    "def sent_to_words(sentences):\n",
    "    for sentence in sentences:\n",
    "        # deacc=True removes punctuations\n",
    "        yield(gensim.utils.simple_preprocess(str(sentence), deacc=True))"
   ]
  },
  {
   "cell_type": "code",
   "execution_count": 6,
   "metadata": {},
   "outputs": [],
   "source": [
    "def print_performance_metrics(truth, pred, alg_text = \"\"):\n",
    "    \n",
    "    cr = classification_report(truth, pred > 0.5)\n",
    "    print(cr)\n",
    "    \n",
    "    print(confusion_matrix(truth, pred>0.5))\n",
    "    \n",
    "    # plot ROC curve\n",
    "    fpr, tpr, thresholds = roc_curve(truth, pred, pos_label=1)\n",
    "    print(f\"N thresholds: {len(thresholds)}\")\n",
    "        \n",
    "    roc_auc = roc_auc_score(Y_test, pred)\n",
    "    \n",
    "    plt.figure()\n",
    "    plt.plot(fpr, tpr, color='darkorange',\n",
    "         lw=2, label='ROC curve (area = %0.3f)' % roc_auc)\n",
    "    plt.plot([0, 1], [0, 1], color='navy', lw=2, linestyle='--')\n",
    "    plt.xlim([0.0, 1.0])\n",
    "    plt.ylim([0.0, 1.05])\n",
    "    plt.xlabel('False Positive Rate')\n",
    "    plt.ylabel('True Positive Rate')\n",
    "    plt.title(alg_text + ' ROC Curve')\n",
    "    plt.legend(loc=\"lower right\")\n",
    "    plt.show()\n"
   ]
  },
  {
   "cell_type": "code",
   "execution_count": 7,
   "metadata": {},
   "outputs": [
    {
     "name": "stdout",
     "output_type": "stream",
     "text": [
      "X_train shape:(183641, 4)\n",
      "X_test shape:(15969, 4)\n"
     ]
    }
   ],
   "source": [
    "# test-train split used throughout.\n",
    "from sklearn.model_selection import train_test_split\n",
    "from sklearn.preprocessing import OneHotEncoder, StandardScaler, LabelEncoder\n",
    "from sklearn.metrics import auc, roc_curve, roc_auc_score, classification_report, confusion_matrix\n",
    "from sklearn.pipeline import Pipeline\n",
    "from sklearn.linear_model import LogisticRegression\n",
    "from sklearn.base import BaseEstimator, TransformerMixin\n",
    "from sklearn.compose import ColumnTransformer\n",
    "\n",
    "X = df[['partisan_lean', 'version_number', 'sc_id', 'text']]\n",
    "Y = df[['passed']]\n",
    "\n",
    "(X_train, X_test, Y_train, Y_test) = train_test_split(X, Y, test_size=0.08, random_state=0)\n",
    "\n",
    "print(f\"X_train shape:{X_train.shape}\")\n",
    "print(f\"X_test shape:{X_test.shape}\")"
   ]
  },
  {
   "cell_type": "code",
   "execution_count": 8,
   "metadata": {},
   "outputs": [],
   "source": [
    "n_topics = 40\n",
    "with open('bow_models/lda_40_10.dat', \"rb\") as f:\n",
    "    [lda_model, id2word] = pickle.load(f)\n",
    "    \n",
    "categorical_features = ['sc_id']\n",
    "categorical_transformer = OneHotEncoder(sparse=False)\n",
    "\n",
    "numeric_features = ['version_number', 'partisan_lean']\n",
    "numeric_transformer = Pipeline(steps=[ ('scaler', StandardScaler()) ])\n",
    "\n",
    "preprocessor = ColumnTransformer(\n",
    "    transformers=[\n",
    "        ('cat', categorical_transformer, categorical_features),\n",
    "        ('num', numeric_transformer, numeric_features),\n",
    "        ('text', addLDA(lda_model, id2word, n_topics), ['text'])\n",
    "        \n",
    "])\n",
    "lr_model = LogisticRegression(penalty='l1', solver='liblinear')\n",
    "lr = Pipeline(steps = [ ('prep', preprocessor),\n",
    "                        ('Logistic Regression', lr_model) ])\n",
    "lr.fit(X_train, Y_train);"
   ]
  },
  {
   "cell_type": "code",
   "execution_count": 9,
   "metadata": {},
   "outputs": [
    {
     "name": "stdout",
     "output_type": "stream",
     "text": [
      "              precision    recall  f1-score   support\n",
      "\n",
      "           0       0.90      0.97      0.93     13385\n",
      "           1       0.73      0.42      0.54      2584\n",
      "\n",
      "    accuracy                           0.88     15969\n",
      "   macro avg       0.82      0.70      0.74     15969\n",
      "weighted avg       0.87      0.88      0.87     15969\n",
      "\n",
      "[[12987   398]\n",
      " [ 1486  1098]]\n",
      "N thresholds: 2745\n"
     ]
    },
    {
     "data": {
      "image/png": "[encoded data removed]",
      "text/plain": [
       "<Figure size 432x288 with 1 Axes>"
      ]
     },
     "metadata": {
      "needs_background": "light"
     },
     "output_type": "display_data"
    }
   ],
   "source": [
    "preds = lr.predict_proba(X_test)\n",
    "print_performance_metrics(Y_test.passed, preds[:,1] , \"LR w/ LDA Topics\")"
   ]
  },
  {
   "cell_type": "code",
   "execution_count": 10,
   "metadata": {},
   "outputs": [
    {
     "name": "stdout",
     "output_type": "stream",
     "text": [
      "              precision    recall  f1-score   support\n",
      "\n",
      "           0       0.92      0.97      0.94     13385\n",
      "           1       0.77      0.56      0.65      2584\n",
      "\n",
      "    accuracy                           0.90     15969\n",
      "   macro avg       0.84      0.77      0.80     15969\n",
      "weighted avg       0.90      0.90      0.90     15969\n",
      "\n",
      "[[12947   438]\n",
      " [ 1129  1455]]\n",
      "N thresholds: 2528\n"
     ]
    },
    {
     "data": {
      "image/png": "[encoded data removed]",
      "text/plain": [
       "<Figure size 432x288 with 1 Axes>"
      ]
     },
     "metadata": {
      "needs_background": "light"
     },
     "output_type": "display_data"
    }
   ],
   "source": [
    "from catboost import CatBoostClassifier, Pool, cv\n",
    "\n",
    "categorical_features_indices = [2]\n",
    "\n",
    "\n",
    "preprocessor = ColumnTransformer(\n",
    "    transformers=[\n",
    "        ('num', numeric_transformer, numeric_features),\n",
    "        ('sc_id', 'passthrough', [2]),\n",
    "        ('text', addLDA(lda_model, id2word, n_topics), ['text'])\n",
    "        \n",
    "])\n",
    "cat_model = CatBoostClassifier(\n",
    "    custom_loss=['Accuracy'],\n",
    "    random_seed=42,\n",
    "    logging_level='Silent',\n",
    "    cat_features = [2]\n",
    ")\n",
    "cat = Pipeline(steps = [ ('prep', preprocessor),\n",
    "                         ('Catboost', cat_model) ])\n",
    "cat.fit(X_train, Y_train)\n",
    "preds = cat.predict_proba(X_test)\n",
    "print_performance_metrics(Y_test.passed, preds[:,1] , \"Catboost w/ LDA Topics\")"
   ]
  },
  {
   "cell_type": "code",
   "execution_count": 11,
   "metadata": {},
   "outputs": [],
   "source": [
    "import joblib\n",
    "#joblib.dump(cat, 'prod_model.joblib')"
   ]
  },
  {
   "cell_type": "code",
   "execution_count": null,
   "metadata": {},
   "outputs": [],
   "source": [
    "from catboost import CatBoost\n",
    "from sklearn.model_selection import cross_val_score\n",
    "from sklearn.model_selection import GridSearchCV\n",
    "from sklearn.pipeline import make_pipeline\n",
    "\n",
    "\n",
    "pl = Pipeline(steps = [ ('prep', preprocessor)])\n",
    "X_ready = pl.transform(X)\n",
    "print(X_ready.shape)\n"
   ]
  },
  {
   "cell_type": "code",
   "execution_count": null,
   "metadata": {},
   "outputs": [],
   "source": [
    "cat_model = CatBoostClassifier(\n",
    "    custom_loss=['Accuracy'],\n",
    "    random_seed=42,\n",
    "    logging_level='Silent',\n",
    "    cat_features = [2]\n",
    ")\n",
    "results = cat_model.grid_search({'depth':[3,5,8], 'learning_rate':[0.03, 0.1, 0.3]}, \n",
    "                                X_ready, y=Y, cv=3, plot=True)"
   ]
  },
  {
   "cell_type": "code",
   "execution_count": null,
   "metadata": {},
   "outputs": [],
   "source": [
    "print(df_ml_x.shape)\n",
    "df_ml_y = df[['passed']].values\n",
    "(X_train, X_test, Y_train, Y_test) = train_test_split(df_ml_x, df_ml_y, test_size=0.08, random_state=0)\n",
    "from sklearn.linear_model import LogisticRegression\n",
    "clf = LogisticRegression(penalty='l1', solver='liblinear').fit(X_train, Y_train.ravel())\n",
    "pred = clf.predict_proba(X_test)[:,1]\n",
    "print_performance_metrics(Y_test, pred, alg_text = \"Logistic Regression w/ Topic Vectors\")"
   ]
  },
  {
   "cell_type": "code",
   "execution_count": null,
   "metadata": {},
   "outputs": [],
   "source": [
    "df_ml_x = np.concatenate((df[['partisan_lean', 'version_number']].values, sparse_one_hot.toarray()), axis=1)\n",
    "df_ml_y = df[['passed']].values\n",
    "(X_train, X_test, Y_train, Y_test) = train_test_split(df_ml_x, df_ml_y, test_size=0.08, random_state=0)\n",
    "from sklearn.linear_model import LogisticRegression\n",
    "clf = LogisticRegression(penalty='l1', solver='liblinear').fit(X_train, Y_train.ravel())\n",
    "pred = clf.predict_proba(X_test)[:,1]\n",
    "print_performance_metrics(Y_test, pred, alg_text = \"Logistic Regression w/o Topic Vectors\")"
   ]
  },
  {
   "cell_type": "code",
   "execution_count": null,
   "metadata": {},
   "outputs": [],
   "source": [
    "from catboost import CatBoostClassifier, Pool, cv\n",
    "model = CatBoostClassifier(\n",
    "    custom_loss=['Accuracy'],\n",
    "    random_seed=42,\n",
    "    logging_level='Silent'\n",
    ")\n",
    "df_cat_x = np.concatenate((df[['partisan_lean', 'version_number', 'sc_id']].values, features), axis=1)\n",
    "categorical_features_indices = [2]\n",
    "df_cat_y = df[['passed']]\n",
    "\n",
    "# redo the test_train split as we don't have sc_id oneHotEncoded\n",
    "(X_train, X_test, Y_train, Y_test) = train_test_split(df_cat_x, df_cat_y, test_size=0.2, random_state=0)\n",
    "model.fit(\n",
    "    X_train, Y_train,\n",
    "    cat_features=categorical_features_indices,\n",
    "    eval_set=(X_test, Y_test),\n",
    "#     logging_level='Verbose',  # you can uncomment this for text output\n",
    "    plot=True\n",
    ");\n",
    "preds_cat = model.predict_proba(X_test)[:,1]\n",
    "print_performance_metrics(Y_test.values, preds_cat, alg_text = \"Categorical gradient boost w/ Topic Vectors\")"
   ]
  },
  {
   "cell_type": "code",
   "execution_count": null,
   "metadata": {},
   "outputs": [],
   "source": [
    "model = CatBoostClassifier(\n",
    "    custom_loss=['Accuracy'],\n",
    "    random_seed=42,\n",
    "    logging_level='Silent'\n",
    ")\n",
    "df_cat_x =  df[['partisan_lean', 'version_number', 'sc_id']].values\n",
    "categorical_features_indices = [2]\n",
    "df_cat_y = df[['passed']]\n",
    "\n",
    "# redo the test_train split as we don't have sc_id oneHotEncoded\n",
    "(X_train, X_test, Y_train, Y_test) = train_test_split(df_cat_x, df_cat_y, test_size=0.2, random_state=0)\n",
    "model.fit(\n",
    "    X_train, Y_train,\n",
    "    cat_features=categorical_features_indices,\n",
    "    eval_set=(X_test, Y_test),\n",
    "#     logging_level='Verbose',  # you can uncomment this for text output\n",
    "    plot=True\n",
    ");\n",
    "preds_cat = model.predict_proba(X_test)[:,1]\n",
    "print_performance_metrics(Y_test.values, preds_cat, alg_text = \"Categorical gradient boost w/o Topic Vectors\")"
   ]
  },
  {
   "cell_type": "code",
   "execution_count": null,
   "metadata": {},
   "outputs": [],
   "source": [
    "from gensim.models import LsiModel\n",
    "n_lsi_topics = 50\n",
    "lsi_model = LsiModel(corpus=corpus,\n",
    "                     id2word=id2word,\n",
    "                     num_topics=n_lsi_topics)\n",
    "doc_topics_lsi = [dense_vector(lsi_model[x], n_lsi_topics) for x in corpus]\n",
    "features_lsi = np.asarray(doc_topics_lsi)"
   ]
  },
  {
   "cell_type": "code",
   "execution_count": null,
   "metadata": {},
   "outputs": [],
   "source": [
    "from sklearn.model_selection import train_test_split\n",
    "from sklearn.preprocessing import OneHotEncoder\n",
    "from sklearn.metrics import auc, roc_curve, roc_auc_score, classification_report, confusion_matrix\n",
    "#Creat target and features:\n",
    "enc = OneHotEncoder(drop='first')\n",
    "enc.fit(df.sc_id.values.reshape(-1,1))\n",
    "sparse_one_hot = enc.transform(df.sc_id.values.reshape(-1,1))\n",
    "df_ml_x = np.concatenate((df[['partisan_lean', 'version_number']].values, sparse_one_hot.toarray(), features_lsi), axis=1)\n",
    "df_ml_y = df[['passed']].values\n",
    "(X_train, X_test, Y_train, Y_test) = train_test_split(df_ml_x, df_ml_y, test_size=0.08, random_state=0)\n",
    "from sklearn.linear_model import LogisticRegression\n",
    "clf = LogisticRegression(penalty='l1', solver='liblinear').fit(X_train, Y_train.ravel())\n",
    "pred = clf.predict_proba(X_test)[:,1]\n",
    "print_performance_metrics(Y_test, pred, alg_text = \"Logistic Regression w/ LSI\")"
   ]
  },
  {
   "cell_type": "code",
   "execution_count": null,
   "metadata": {},
   "outputs": [],
   "source": [
    "model = CatBoostClassifier(\n",
    "    custom_loss=['Accuracy'],\n",
    "    random_seed=42,\n",
    "    logging_level='Silent'\n",
    ")\n",
    "df_cat_x = np.concatenate((df[['partisan_lean', 'version_number', 'sc_id']].values, features_lsi), axis=1)\n",
    "categorical_features_indices = [2]\n",
    "df_cat_y = df[['passed']]\n",
    "\n",
    "# redo the test_train split as we don't have sc_id oneHotEncoded\n",
    "(X_train, X_test, Y_train, Y_test) = train_test_split(df_cat_x, df_cat_y, test_size=0.2, random_state=0)\n",
    "model.fit(\n",
    "    X_train, Y_train,\n",
    "    cat_features=categorical_features_indices,\n",
    "    eval_set=(X_test, Y_test),\n",
    "#     logging_level='Verbose',  # you can uncomment this for text output\n",
    "    plot=True\n",
    ");\n",
    "preds_cat = model.predict_proba(X_test)[:,1]\n",
    "print_performance_metrics(Y_test.values, preds_cat, alg_text = \"Categorical gradient boost w/ LSI\")"
   ]
  },
  {
   "cell_type": "code",
   "execution_count": null,
   "metadata": {},
   "outputs": [],
   "source": []
  }
 ],
 "metadata": {
  "kernelspec": {
   "display_name": "Python 3",
   "language": "python",
   "name": "python3"
  },
  "language_info": {
   "codemirror_mode": {
    "name": "ipython",
    "version": 3
   },
   "file_extension": ".py",
   "mimetype": "text/x-python",
   "name": "python",
   "nbconvert_exporter": "python",
   "pygments_lexer": "ipython3",
   "version": "3.8.7"
  }
 },
 "nbformat": 4,
 "nbformat_minor": 4
}
