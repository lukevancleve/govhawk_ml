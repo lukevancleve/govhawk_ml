{
 "cells": [
  {
   "cell_type": "markdown",
   "metadata": {},
   "source": [
    "# Transformer Model"
   ]
  },
  {
   "cell_type": "code",
   "execution_count": 2,
   "metadata": {},
   "outputs": [],
   "source": [
    "import pandas as pd\n",
    "import warnings; warnings.simplefilter('ignore')\n",
    "import numpy as np\n",
    "import warnings\n",
    "import os\n",
    "import sys\n",
    "import matplotlib.pyplot as plt\n",
    "\n",
    "warnings.filterwarnings('ignore')\n",
    "\n",
    "# Load the local code\n",
    "module_path = os.path.abspath(os.path.join('..'))\n",
    "if module_path not in sys.path:\n",
    "    sys.path.append(module_path)\n",
    "from src.data.read_parallel import read_parallel_local"
   ]
  },
  {
   "cell_type": "code",
   "execution_count": 7,
   "metadata": {},
   "outputs": [],
   "source": [
    "import trax\n",
    "from trax import layers as tl\n",
    "from trax.supervised import training"
   ]
  },
  {
   "cell_type": "code",
   "execution_count": 16,
   "metadata": {},
   "outputs": [
    {
     "name": "stdout",
     "output_type": "stream",
     "text": [
      "Original number of examples: 199451\n",
      "Reduced number of examples:  9972\n",
      "Took 0.5911680499712626 min to open 9972 files with 20 processes.\n"
     ]
    }
   ],
   "source": [
    "# Load the text data from individual files and store\n",
    "\n",
    "REDUCE_BY_FACTOR = 20.0 # Make the dataset smaller for development purposes\n",
    "\n",
    "if 'DATA_VOL' not in os.environ:\n",
    "    # Manually set:\n",
    "    DATA_VOL = '/home/luke/tmp_vol'\n",
    "else:\n",
    "    DATA_VOL = os.environ['DATA_VOL']\n",
    "    \n",
    "# Pre-wrangled metadata\n",
    "df = pd.read_csv(\"../references/derived/ml_data.csv\", encoding=\"latin1\", parse_dates=True)\n",
    "df.id = df.id.astype(int)    \n",
    "print(f\"Original number of examples: {len(df)}\")\n",
    "df = df.sample(n=int(len(df)/REDUCE_BY_FACTOR)) #\n",
    "print(f\"Reduced number of examples:  {len(df)}\")\n",
    "\n",
    "df['text'] = read_parallel_local(df['id'], DATA_VOL + \"/clean/\")\n",
    "\n",
    "df = df.reset_index(drop=True)"
   ]
  },
  {
   "cell_type": "code",
   "execution_count": 12,
   "metadata": {},
   "outputs": [
    {
     "data": {
      "text/html": [
       "<div>\n",
       "<style scoped>\n",
       "    .dataframe tbody tr th:only-of-type {\n",
       "        vertical-align: middle;\n",
       "    }\n",
       "\n",
       "    .dataframe tbody tr th {\n",
       "        vertical-align: top;\n",
       "    }\n",
       "\n",
       "    .dataframe thead th {\n",
       "        text-align: right;\n",
       "    }\n",
       "</style>\n",
       "<table border=\"1\" class=\"dataframe\">\n",
       "  <thead>\n",
       "    <tr style=\"text-align: right;\">\n",
       "      <th></th>\n",
       "      <th>bill_id</th>\n",
       "      <th>version_number</th>\n",
       "      <th>id</th>\n",
       "      <th>partisan_lean</th>\n",
       "      <th>sc_id</th>\n",
       "      <th>signed</th>\n",
       "      <th>text</th>\n",
       "    </tr>\n",
       "  </thead>\n",
       "  <tbody>\n",
       "    <tr>\n",
       "      <th>0</th>\n",
       "      <td>1115149</td>\n",
       "      <td>1</td>\n",
       "      <td>2148609</td>\n",
       "      <td>0.230769</td>\n",
       "      <td>567-2</td>\n",
       "      <td>0</td>\n",
       "      <td>1 state of oklahoma 1st session of the 57th le...</td>\n",
       "    </tr>\n",
       "    <tr>\n",
       "      <th>1</th>\n",
       "      <td>1197491</td>\n",
       "      <td>2</td>\n",
       "      <td>2275685</td>\n",
       "      <td>0.708522</td>\n",
       "      <td>592-2</td>\n",
       "      <td>0</td>\n",
       "      <td>state of new york 6080-a regular sessions in ...</td>\n",
       "    </tr>\n",
       "    <tr>\n",
       "      <th>2</th>\n",
       "      <td>1321268</td>\n",
       "      <td>1</td>\n",
       "      <td>2575706</td>\n",
       "      <td>0.294118</td>\n",
       "      <td>627-2</td>\n",
       "      <td>0</td>\n",
       "      <td>section a. chapter rsmo, is amended by adding...</td>\n",
       "    </tr>\n",
       "    <tr>\n",
       "      <th>3</th>\n",
       "      <td>1254840</td>\n",
       "      <td>1</td>\n",
       "      <td>2458098</td>\n",
       "      <td>0.230769</td>\n",
       "      <td>624-2</td>\n",
       "      <td>0</td>\n",
       "      <td>1 state of oklahoma 1st session of the 57th le...</td>\n",
       "    </tr>\n",
       "    <tr>\n",
       "      <th>4</th>\n",
       "      <td>1130443</td>\n",
       "      <td>1</td>\n",
       "      <td>2168794</td>\n",
       "      <td>0.294118</td>\n",
       "      <td>572-2</td>\n",
       "      <td>0</td>\n",
       "      <td>section a. chapter rsmo, is amended by adding...</td>\n",
       "    </tr>\n",
       "  </tbody>\n",
       "</table>\n",
       "</div>"
      ],
      "text/plain": [
       "   bill_id  version_number       id  partisan_lean  sc_id  signed  \\\n",
       "0  1115149               1  2148609       0.230769  567-2       0   \n",
       "1  1197491               2  2275685       0.708522  592-2       0   \n",
       "2  1321268               1  2575706       0.294118  627-2       0   \n",
       "3  1254840               1  2458098       0.230769  624-2       0   \n",
       "4  1130443               1  2168794       0.294118  572-2       0   \n",
       "\n",
       "                                                text  \n",
       "0  1 state of oklahoma 1st session of the 57th le...  \n",
       "1   state of new york 6080-a regular sessions in ...  \n",
       "2   section a. chapter rsmo, is amended by adding...  \n",
       "3  1 state of oklahoma 1st session of the 57th le...  \n",
       "4   section a. chapter rsmo, is amended by adding...  "
      ]
     },
     "execution_count": 12,
     "metadata": {},
     "output_type": "execute_result"
    }
   ],
   "source": [
    "df.head()"
   ]
  },
  {
   "cell_type": "code",
   "execution_count": 15,
   "metadata": {},
   "outputs": [
    {
     "name": "stdout",
     "output_type": "stream",
     "text": [
      "X_train.shape: (22, 4)\n"
     ]
    }
   ],
   "source": [
    "from sklearn.model_selection import train_test_split\n",
    "(X_train, X_test, Y_train, Y_test) = train_test_split(df[['version_number', 'partisan_lean', 'sc_id', 'text']], df['signed'], test_size=0.08, random_state=0)\n",
    "print(f\"X_train.shape: {X_train.shape}\")"
   ]
  },
  {
   "cell_type": "code",
   "execution_count": null,
   "metadata": {},
   "outputs": [],
   "source": []
  },
  {
   "cell_type": "code",
   "execution_count": null,
   "metadata": {},
   "outputs": [],
   "source": [
    "\n",
    "def tokenize(input_str, vocab_file=None, vocab_dir=None):\n",
    "    \"\"\"Encodes a string to an array of integers\n",
    "\n",
    "    Args:\n",
    "        input_str (str): human-readable string to encode\n",
    "        vocab_file (str): filename of the vocabulary text file\n",
    "        vocab_dir (str): path to the vocabulary file\n",
    "  \n",
    "    Returns:\n",
    "        numpy.ndarray: tokenized version of the input string\n",
    "    \"\"\"\n",
    "    \n",
    "    # Set the encoding of the \"end of sentence\" as 1\n",
    "    EOS = 1\n",
    "    \n",
    "    # Use the trax.data.tokenize method. It takes streams and returns streams,\n",
    "    # we get around it by making a 1-element stream with `iter`.\n",
    "    inputs =  next(trax.data.tokenize(iter([input_str]),\n",
    "                                      vocab_file=vocab_file, vocab_dir=vocab_dir))\n",
    "    \n",
    "    # Mark the end of the sentence with EOS\n",
    "    inputs = list(inputs) + [EOS]\n",
    "    \n",
    "    # Adding the batch dimension to the front of the shape\n",
    "    batch_inputs = np.reshape(np.array(inputs), [1, -1])\n",
    "    \n",
    "    return batch_inputs\n"
   ]
  }
 ],
 "metadata": {
  "kernelspec": {
   "display_name": "govhawk_kernel",
   "language": "python",
   "name": "govhawk_kernel"
  },
  "language_info": {
   "codemirror_mode": {
    "name": "ipython",
    "version": 3
   },
   "file_extension": ".py",
   "mimetype": "text/x-python",
   "name": "python",
   "nbconvert_exporter": "python",
   "pygments_lexer": "ipython3",
   "version": "3.8.5"
  }
 },
 "nbformat": 4,
 "nbformat_minor": 4
}
