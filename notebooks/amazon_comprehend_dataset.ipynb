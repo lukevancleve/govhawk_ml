{
 "cells": [
  {
   "cell_type": "code",
   "execution_count": 1,
   "metadata": {},
   "outputs": [],
   "source": [
    "import pandas as pd\n",
    "import re\n",
    "import warnings; warnings.simplefilter('ignore')\n",
    "import numpy as np\n",
    "\n",
    "import warnings\n",
    "warnings.filterwarnings('ignore')\n",
    "\n",
    "df = pd.read_csv(\"temp_vn.csv\", encoding=\"latin1\", parse_dates=True)\n",
    "df = df[df.len != -1]\n",
    "df = df[~df.id.isna()]\n",
    "df.id = df.id.astype(int)\n",
    "#df = df.sample(n=N_SAMPLE)  # random subsample to get going quicker\n",
    "df['text'] = \"zzz\"\n",
    "df = df.reset_index(drop=True)"
   ]
  },
  {
   "cell_type": "code",
   "execution_count": 9,
   "metadata": {},
   "outputs": [],
   "source": [
    "df_one_bill = df[['bill_id', 'version_number']].groupby('bill_id').sample(n=1)\n"
   ]
  },
  {
   "cell_type": "code",
   "execution_count": 14,
   "metadata": {},
   "outputs": [],
   "source": [
    "df = df_one_bill.merge(df[['id', 'version_number', 'bill_id', 'signed']], on = ['version_number', 'bill_id'])"
   ]
  },
  {
   "cell_type": "code",
   "execution_count": 16,
   "metadata": {},
   "outputs": [
    {
     "name": "stdout",
     "output_type": "stream",
     "text": [
      "0:17:59.071420\n"
     ]
    }
   ],
   "source": [
    "from datetime import datetime\n",
    "startTime = datetime.now()\n",
    "def load_file(x):\n",
    "    fname = '../data/raw/' + str(df.iloc[i]['id']) +'.txt'\n",
    "    x = open(fname).read()\n",
    "    return x    \n",
    "\n",
    "for i in range(len(df)):\n",
    "    df.at[i, 'text'] = load_file(i)\n",
    "print(datetime.now()-startTime)"
   ]
  },
  {
   "cell_type": "code",
   "execution_count": 23,
   "metadata": {},
   "outputs": [],
   "source": [
    "# remove commas\n",
    "df['text'] = df.text.map(lambda x: re.sub('[,]', ' ', x))\n"
   ]
  },
  {
   "cell_type": "code",
   "execution_count": 24,
   "metadata": {},
   "outputs": [],
   "source": [
    "df[['signed', 'text']].to_csv(\"full_text_amazon_comprehend.csv\")"
   ]
  },
  {
   "cell_type": "code",
   "execution_count": 22,
   "metadata": {},
   "outputs": [],
   "source": [
    "#!mv full_text_amazon_comprehend full_text_amazon_comprehend.csv"
   ]
  },
  {
   "cell_type": "code",
   "execution_count": 25,
   "metadata": {},
   "outputs": [
    {
     "data": {
      "text/plain": [
       "0.13822465764402994"
      ]
     },
     "execution_count": 25,
     "metadata": {},
     "output_type": "execute_result"
    }
   ],
   "source": [
    "np.mean(df.signed)"
   ]
  },
  {
   "cell_type": "code",
   "execution_count": null,
   "metadata": {},
   "outputs": [],
   "source": []
  }
 ],
 "metadata": {
  "kernelspec": {
   "display_name": "govhawk_kernel",
   "language": "python",
   "name": "govhawk_kernel"
  },
  "language_info": {
   "codemirror_mode": {
    "name": "ipython",
    "version": 3
   },
   "file_extension": ".py",
   "mimetype": "text/x-python",
   "name": "python",
   "nbconvert_exporter": "python",
   "pygments_lexer": "ipython3",
   "version": "3.8.5"
  }
 },
 "nbformat": 4,
 "nbformat_minor": 4
}
