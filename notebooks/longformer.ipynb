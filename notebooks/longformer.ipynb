{
 "cells": [
  {
   "cell_type": "code",
   "execution_count": null,
   "metadata": {},
   "outputs": [],
   "source": [
    "# Reload local modules if they've changed.\n",
    "%load_ext autoreload\n",
    "%autoreload 2"
   ]
  },
  {
   "cell_type": "code",
   "execution_count": 6,
   "metadata": {},
   "outputs": [],
   "source": [
    "import numpy as np\n",
    "import pandas as pd\n",
    "\n",
    "import numpy as np\n",
    "import tensorflow as tf\n",
    "import tensorflow_hub as hub\n",
    "import sys\n",
    "import os\n",
    "module_path = os.path.abspath(os.path.join('..'))\n",
    "if module_path not in sys.path:\n",
    "    sys.path.append(module_path)\n",
    "from src.data.read_parallel import read_parallel_local"
   ]
  },
  {
   "cell_type": "code",
   "execution_count": 8,
   "metadata": {},
   "outputs": [],
   "source": [
    "from src.models.deeplegis import legislationDataset"
   ]
  },
  {
   "cell_type": "code",
   "execution_count": 16,
   "metadata": {},
   "outputs": [
    {
     "name": "stdout",
     "output_type": "stream",
     "text": [
      "Original number of examples: 199451\n",
      "Reduced number of examples:  199\n",
      "Took 0.047682785987854005 min to open 199 files with 20 processes.\n"
     ]
    }
   ],
   "source": [
    "REDUCE_BY_FACTOR = 1000 # Make the dataset smaller for development purposes\n",
    "train_test_ratio = 0.91\n",
    "train_valid_ratio = 0.90\n",
    "\n",
    "if 'DATA_VOL' not in os.environ:\n",
    "    # Manually set:\n",
    "    DATA_VOL = '/home/luke/tmp_vol/'\n",
    "else:\n",
    "    DATA_VOL = os.environ['DATA_VOL']\n",
    "    \n",
    "# Pre-wrangled metadata\n",
    "df = pd.read_csv(\"../references/derived/ml_data.csv\", encoding=\"latin1\", parse_dates=True)\n",
    "df.id = df.id.astype(int)    \n",
    "print(f\"Original number of examples: {len(df)}\")\n",
    "df = df.sample(n=int(len(df)/REDUCE_BY_FACTOR)) #\n",
    "print(f\"Reduced number of examples:  {len(df)}\")\n",
    "\n",
    "tmp = read_parallel_local(df['id'], DATA_VOL + \"/clean/\")\n",
    "df['text'] = tmp\n",
    "df = df.reset_index(drop=True)"
   ]
  },
  {
   "cell_type": "code",
   "execution_count": 26,
   "metadata": {},
   "outputs": [
    {
     "name": "stdout",
     "output_type": "stream",
     "text": [
      "{'max_length': 128, 'train_batch_size': 32, 'testing': False, 'train_test_ratio': 0.91, 'train_valid_ratio': 0.9}\n",
      "Training size: (162, 7)\n",
      "Validation size: (19, 7)\n",
      "Test size: (18, 7)\n"
     ]
    },
    {
     "ename": "ValueError",
     "evalue": "too many values to unpack (expected 2)",
     "output_type": "error",
     "traceback": [
      "\u001b[0;31m---------------------------------------------------------------------------\u001b[0m",
      "\u001b[0;31mValueError\u001b[0m                                Traceback (most recent call last)",
      "\u001b[0;32m<ipython-input-26-ef631156d81f>\u001b[0m in \u001b[0;36m<module>\u001b[0;34m\u001b[0m\n\u001b[1;32m      7\u001b[0m \u001b[0mprint\u001b[0m\u001b[0;34m(\u001b[0m\u001b[0mconfig\u001b[0m\u001b[0;34m)\u001b[0m\u001b[0;34m\u001b[0m\u001b[0;34m\u001b[0m\u001b[0m\n\u001b[1;32m      8\u001b[0m \u001b[0mlegis_builder\u001b[0m \u001b[0;34m=\u001b[0m \u001b[0mlegislationDataset\u001b[0m\u001b[0;34m(\u001b[0m\u001b[0mconfig\u001b[0m\u001b[0;34m)\u001b[0m\u001b[0;34m\u001b[0m\u001b[0;34m\u001b[0m\u001b[0m\n\u001b[0;32m----> 9\u001b[0;31m \u001b[0mtrain_stream\u001b[0m\u001b[0;34m,\u001b[0m \u001b[0mval_stream\u001b[0m \u001b[0;34m=\u001b[0m \u001b[0mlegis_builder\u001b[0m\u001b[0;34m.\u001b[0m\u001b[0mcreate_batch_stream\u001b[0m\u001b[0;34m(\u001b[0m\u001b[0mdf\u001b[0m\u001b[0;34m)\u001b[0m\u001b[0;34m\u001b[0m\u001b[0;34m\u001b[0m\u001b[0m\n\u001b[0m\u001b[1;32m     10\u001b[0m \u001b[0;32mfor\u001b[0m \u001b[0melem\u001b[0m \u001b[0;32min\u001b[0m \u001b[0mtrain_stream\u001b[0m\u001b[0;34m.\u001b[0m\u001b[0mtake\u001b[0m\u001b[0;34m(\u001b[0m\u001b[0;36m1\u001b[0m\u001b[0;34m)\u001b[0m\u001b[0;34m:\u001b[0m\u001b[0;34m\u001b[0m\u001b[0;34m\u001b[0m\u001b[0m\n\u001b[1;32m     11\u001b[0m     \u001b[0mprint\u001b[0m\u001b[0;34m(\u001b[0m\u001b[0melem\u001b[0m\u001b[0;34m)\u001b[0m\u001b[0;34m\u001b[0m\u001b[0;34m\u001b[0m\u001b[0m\n",
      "\u001b[0;31mValueError\u001b[0m: too many values to unpack (expected 2)"
     ]
    }
   ],
   "source": [
    "config = {}\n",
    "config['max_length'] = 128\n",
    "config['train_batch_size'] = 32\n",
    "config['testing'] = False\n",
    "config['train_test_ratio'] = 0.91\n",
    "config['train_valid_ratio'] = 0.90\n",
    "print(config)\n",
    "legis_builder = legislationDataset(config)\n",
    "train_stream, val_stream, test_stream = legis_builder.create_batch_stream(df)\n",
    "for elem in train_stream.take(1):\n",
    "    print(elem)"
   ]
  },
  {
   "cell_type": "code",
   "execution_count": 85,
   "metadata": {},
   "outputs": [
    {
     "name": "stdout",
     "output_type": "stream",
     "text": [
      "Training size: (32669, 7)\n",
      "Validation size: (3630, 7)\n",
      "Test size: (3591, 7)\n"
     ]
    }
   ],
   "source": [
    "df_train_full, df_test = train_test_split(df, train_size = train_test_ratio, random_state = 1, stratify = df.signed.values)\n",
    "df_train, df_valid = train_test_split(df_train_full, train_size = train_valid_ratio, random_state = 1, stratify = df_train_full.signed.values)\n",
    "print(f\"Training size: {df_train.shape}\")\n",
    "print(f\"Validation size: {df_valid.shape}\")\n",
    "print(f\"Test size: {df_test.shape}\")"
   ]
  },
  {
   "cell_type": "code",
   "execution_count": 113,
   "metadata": {},
   "outputs": [
    {
     "name": "stdout",
     "output_type": "stream",
     "text": [
      "tf.Tensor(b' new york state assembly speaker carl e. heastie]    javascript must be enabled to properly view this page.  bill no.: actions committee&nbspvotes floor&nbspvotes memo lfin chamber&nbspvideo/transcript a02591 summary: bill no a02591 &nbsp same as no same as &nbsp sponsor crouch &nbsp cospnsr barclay, finch, giglio, hawley, raia, manktelow &nbsp mltspnsr &nbsp add 1285-v, amd pub auth l &nbsp creates the concentrated animal feeding operation environmental compliance revolving loan program.-a02591 text: state of new york 2019-2020 regular sessions in assembly january 2019 introduced by m. of a. crouch, barclay, finch, giglio, hawley, raia read once and referred to the committee on agriculture an act to amend the public authorities law, in relation to creating the concentrated animal feeding operation environmental compliance revolv ing loan program the people of the state of new york, represented in senate and assem bly, do enact as follows: . the public authorities law is amended by adding a new -v to read as follows: 1285-v. concentrated animal feeding operation environmental compli ance revolving loan program. notwithstanding the provisions of any general or special law to the contrary, the corporation shall undertake to provide financial assistance to farm operators for the planning of certified nutrient management plans and the implementation of such plans as set forth in this section. 2. for purposes of this section, and notwithstanding any provision of law to the contrary, as used in this section: \"concentrated animal feeding operation\" shall mean a farm opera tion permitted pursuant to title seven or eight of article seventeen of the environmental conservation law. \"farm operator\" shall mean a person who engages in farming or desires to engage in farming and who is the owner of a farm operation, as defined in subdivision eleven of section three hundred one of the agriculture and markets law. \"lender\" shall mean any state or federally-chartered savings bank, savings and loan association, state or federally chartered savings banks and savings and loan associations, farm credit system institution, or state or federally chartered commercial banks or trust companies author ized to do business in this state. \"project\" shall mean the architectural and engineering services, plans and specifications, including watershed based or individual agri explanation-matter in italics is new; matter in brackets  is old law to be omitted. lbd02992-01-9 a. 2 cultural nonpoint source pollution assessments, consultant and legal services, construction, and other direct expenses related to implementa tion of a farm operation\\'s certified nutrient management plan. 3. the corporation is hereby authorized to enter into any contract, financing or loan agreement, or other instrument in connection with a loan made by a lender to a farm operator for a project. 4. in order to effectuate the purposes of this section, the corpo ration may extend credit to or on behalf of a farm operator for the construction or acquisition of a project, or for the reimbursement for costs incurred by a farm operator in connection with a project, provided such farm operator has received a commitment to receive from a lender a loan or other financial assistance acceptable to the corporation. in the exercise of the powers granted in this section in connection with a project for a farm operator, the corporation may require the inclusion in any contract, loan agreement or other instrument of such provisions for the financing of such project and such other financial and other covenants as may apply to such farm operators as the corporation may deem desirable and/or appropriate and to do all things necessary to execute any instrument in connection and desirable with such financing. 5. in connection with the issuance of any bond or note issued in connection with or for the concentrated animal feeding operation envi ronmental compliance revolving loan program, the corporation may fix and collect any fees and charges, including but not limited to reimbursement of all costs of financing incurred by the corporation, as the corpo ration shall determine to be reasonable. 6. in connection with the extension of credit and the issuance of a bond or note for the construction or acquisition of a project as provided in this section, a farm operator shall submit to the corpo ration an application for the extension of credit or a loan. the corpo ration may deny such application for any reason it deems appropriate in the public interest. 7. any bonds or notes issued to finance the provisions of this  shall be special limited obligations of the corporation payable solely out of the revenue derived from any loan or finance agreement, debt obligation or sales contract, collateral or other property received in connection with the concentrated animal feeding operation environmental compliance revolving loan program. all assets and liabilities created through the issuance of bonds or notes under this section shall be sepa rate from all other assets and liabilities of the corporation. the corporation shall have no moral or legal obligation or liability to any farm operator or other person under this section except as expressly provided by written contract. no funds in the concentrated animal feed ing operation environmental compliance revolving loan program may be commingled with any other funds of the corporation. 8. the corporation shall promulgate regulations, developed in consultation with the commissioner of agriculture and markets, for the purpose of carrying out its responsibilities under this section, includ ing establishing the criteria and standards for evaluating the project to be financed and the eligibility of the farm operator. the corporation shall consult with the commissioner of agriculture and markets regarding promotion of the program and agriculturally related questions regarding the program or applications. 2. paragraph of subdivision of  of the public authorities law, as amended by chapter of the laws of is amended to read as follows: a. 3 the corporation shall have power and is hereby authorized from time to time to issue its negotiable or non-negotiable bonds and notes in conformity with applicable provisions of the uniform commercial code in such principal amount, as, in the opinion of the corporation, shall be necessary to provide sufficient funds for achieving its purposes, including the acquisition and construction, operation and maintenance of sewage treatment works, sewage collecting systems, solid waste disposal facilities, storm water collecting systems, water management facilities, air pollution control facilities, the removal, disposal and remediation of petroleum storage tanks and the remediation of the sites thereof and any other project or projects authorized pursuant to the provisions of this title, and paying the cost thereof; the making of loans to persons and, for purposes of sections twelve hundred eighty-five-j, twelve hundred eighty-five-m and twelve hundred eighty-five-o of this title only, to any municipality or recipient for such purposes; the making of loans, providing of financing or extension of credit to or on behalf of beginning farmers for purposes of section twelve hundred eighty-five-r of this title only; the making of loans, providing of financing, or extension of credit to or on behalf of concentrated animal feeding oper ation environmental compliance revolving loan program for purposes of section twelve hundred eighty-five-v of this title only; the financing of the design, acquisition, construction, improvement and installation of all or any portion of riverbank park, provided however, that any such bonds or notes issued to finance riverbank park shall only be issued in such principal amount as shall be necessary to provide sufficient funds for the repayment of amounts disbursed pursuant to appropriations or reappropriations under chapter fifty-four of the laws of nineteen hundred ninety-one including any subsequent reappropriation of the unex pended balance of such appropriations or reappropriations for the purpose of riverbank park, plus an amount sufficient to fund any debt service reserve fund established by the corporation for the purpose of riverbank park and to provide for the payment of fees and other charges and expenses of the corporation in connection with such bonds and notes, which principal amount shall constitute the statutory ceiling on the amount of bonds and notes that can be issued for such purpose; the financing of all or any portion of any state park infrastructure project or reimbursement of the state for expenditures relating thereto, plus an amount to provide for the payment of fees and other charges and expenses of the corporation in connection with such bonds and notes; the provision of funds to the state for any amounts contributed or to be contributed to the water pollution control revolving fund, the pipeline for jobs fund or the drinking water revolving fund provided, however, that any such bonds or notes issued to provide funds to the water pollution control revolving fund, the pipeline for jobs fund or the drinking water revolving fund shall only be issued in such principal amount as shall be necessary to provide sufficient funds for the repay ment of amounts disbursed pursuant to any appropriation or reappropri ation enacted for the pipeline for jobs fund or for the payment of the state match for federal capitalization grants for the water pollution control revolving fund or the drinking water revolving fund, plus an amount sufficient to fund any debt service reserve fund and to provide for fees, charges and other costs of issuance, which principal amount shall constitute the statutory ceiling on the amount of bonds and notes that can be issued for such purpose; the financing of any environmental infrastructure projects authorized by section twelve hundred eighty five-p of this title; the purchase of municipal bonds and notes, and a. 4 bonds and notes of a state agency, the payment of the cost of any project, the payment of interest on bonds and notes of the corporation, the establishment of reserves to secure such bonds and notes; the provision of working capital and all other expenditures of the corpo ration incident to and necessary or convenient to carry out its purposes and powers; 3. paragraph of subdivision of  of the public authorities law, as amended by chapter of the laws of is amended to read as follows: except as may otherwise be expressly provided by the corporation, every issue of its notes or bonds shall be general obligations of the corporation payable out of any revenues or monies of the corpo ration, subject only to any agreements with the holders of particular notes or bonds pledging any particular receipts or revenues, special obligations of the corporation payable solely from the revenues, service charges, rentals, proceeds or other payments to be received on account of the mortgage, loan or other agreements and payments, reserve and insurance funds or accounts issuance of special obligations, and fees, charges or other monies to be received by the corporation in respect to loans pursuant to section twelve hundred eighty-five-b or twelve hundred eighty-five-j of this title, or from amounts received by the corporation pursuant to any contract, lease, easement, license or other instrument entered into by the corporation pursuant to sections twelve hundred eighty-five-k and twelve hundred eighty-five-l of this title or, special obligations of the corporation payable solely from amounts received pursuant to an agreement with the commissioner of environmental conservation pursuant to subdivision twelve of  twelve hundred eighty-five-j of this title, and may, but need not, be secured by mortgages, assignments or pledges of such revenues, service charges, rentals, proceeds, other payments, funds and accounts, fees, charges and other monies, and by mortgages or assignments thereof in respect to projects, and may include pooled financings subject only to any agreements with the holders of particular special obligation notes or bonds issued to finance the cost of, or loans for, a project or projects; no general obligations of the corporation shall be issued to finance the cost of, or loans for, a project or projects authorized to be constructed pursuant to section twelve hundred eighty-five-b or twelve hundred eighty-five-j of this title or to finance the contribution of the state to the water pollution control revolving fund, the design, acquisition, construction, improvement and installation of all or any portion of riverbank park or state park infrastructure projects and no funds, monies, revenues or other assets of the corpo ration shall be used for loans authorized pursuant to section twelve hundred eighty-five-b or twelve hundred eighty-five-j of this title, except as may be available with respect to a project and a contract with a person as aforesaid, or for the payment to the state for amounts contributed by the state to the water pollution control revolving fund, to finance the design, acquisition, construction, improvement and installation of all or any portion of riverbank park or state park infrastructure projects. nor shall any special obligation authorized pursuant hereto be payable from or secured by any debt service reserve fund created pursuant to section twelve hundred ninety-one of this title, and the state shall not be entitled to require the redemption of such special obligations pursuant to section twelve hundred ninety-three of this title; and such special obligation and the security therefor shall not be subject to the provisions of section twelve hundred ninea. 5 ty-four of this title but the remedies of the holders thereof shall be set forth in the terms of such special obligations and the instruments constituting such security; the making of loans, providing of financial or extension of credit to or on behalf of beginning farmers for purposes of section twelve hundred eighty-five-r of this title only; the making of loans, providing of financing, or extension of credit to or on behalf of farm operators for the purposes of section twelve hundred eighty five-v of this title only; 4. this act shall take effect on the one hundred twentieth day after it shall have become a law. page display time = sec', shape=(), dtype=string)\n",
      "tf.Tensor(0, shape=(), dtype=int64)\n",
      "tf.Tensor(0.7085218020626017, shape=(), dtype=float64)\n"
     ]
    }
   ],
   "source": [
    "train_data1 = tf.data.Dataset.from_tensor_slices((df_train['text'].values, df_train['signed'].values, df_train['partisan_lean'].values))\n",
    "val_data1   = tf.data.Dataset.from_tensor_slices((df_valid['text'].values, df_valid['signed'].values, df_valid['partisan_lean'].values))\n",
    "test_data1  = tf.data.Dataset.from_tensor_slices((df_test['text'].values, df_test['signed'].values, df_test['partisan_lean'].values))\n",
    "for text, label, pl in train_data1.take(1):\n",
    "    print(text)\n",
    "    print(label)\n",
    "    print(pl)"
   ]
  },
  {
   "cell_type": "code",
   "execution_count": null,
   "metadata": {},
   "outputs": [],
   "source": [
    "df_train.map()"
   ]
  },
  {
   "cell_type": "code",
   "execution_count": 119,
   "metadata": {},
   "outputs": [],
   "source": [
    "lf_tokenizer = LongformerTokenizer.from_pretrained('allenai/longformer-base-4096')"
   ]
  },
  {
   "cell_type": "code",
   "execution_count": 152,
   "metadata": {},
   "outputs": [],
   "source": [
    "label_list = [0,1]\n",
    "max_length = 128\n",
    "def to_feature2(text, label, partisan_lean, label_list=label_list, max_length=max_length, tokenizer=lf_tokenizer):\n",
    "  \n",
    "    output = tokenizer(text.numpy().decode('ascii'), return_tensors=\"tf\", truncation=True, padding='max_length', max_length=max_length)\n",
    "    \n",
    "    return (tf.squeeze(output['input_ids'],0), tf.cast(label, 'int32'), tf.cast(partisan_lean, 'float32'))\n",
    "\n",
    "def to_feature_map2(text, label, partisan_lean):\n",
    "    input_ids, label_id, partisan_lean  \\\n",
    "       = tf.py_function(to_feature2, [text, label, partisan_lean], Tout = [tf.int32, tf.int32, tf.float32])\n",
    "    \n",
    "    input_ids.set_shape([max_length])\n",
    "    label_id.set_shape([])\n",
    "    partisan_lean.set_shape([])\n",
    "    \n",
    "    x = {\n",
    "        'input_ids': input_ids,\n",
    "        'partisan_lean': partisan_lean\n",
    "    }\n",
    "    \n",
    "    return (x, label_id)"
   ]
  },
  {
   "cell_type": "code",
   "execution_count": 153,
   "metadata": {},
   "outputs": [],
   "source": [
    "train_batch_size = 32\n",
    "#with tf.device('/cpu:0'):\n",
    "train_data = (train_data1.map(to_feature_map2, num_parallel_calls=tf.data.experimental.AUTOTUNE)\n",
    "             \n",
    "             .shuffle(1000)\n",
    "             .batch(train_batch_size, drop_remainder=True)\n",
    "             .prefetch(tf.data.experimental.AUTOTUNE) \n",
    "             )\n",
    "\n",
    "val_data = (val_data1.map(to_feature_map, num_parallel_calls=tf.data.experimental.AUTOTUNE)\n",
    "             .batch(train_batch_size, drop_remainder=True)\n",
    "             .prefetch(tf.data.experimental.AUTOTUNE) \n",
    "            )"
   ]
  },
  {
   "cell_type": "code",
   "execution_count": 154,
   "metadata": {},
   "outputs": [
    {
     "name": "stdout",
     "output_type": "stream",
     "text": [
      "({'input_ids': <tf.Tensor: shape=(32, 128), dtype=int32, numpy=\n",
      "array([[    0, 19707,  5375, ...,     9,    10,     2],\n",
      "       [    0, 37959,   288, ...,    74, 26845,     2],\n",
      "       [    0,    92,  1423, ...,  9657,   194,     2],\n",
      "       ...,\n",
      "       [    0,  2362,   455, ...,     1,     1,     1],\n",
      "       [    0,   200,  1675, ...,   910,  9426,     2],\n",
      "       [    0, 24837,  1852, ...,  2342,   368,     2]], dtype=int32)>, 'partisan_lean': <tf.Tensor: shape=(32,), dtype=float32, numpy=\n",
      "array([0.3443472 , 0.6289722 , 0.7085218 , 0.2651231 , 0.595405  ,\n",
      "       0.48706314, 0.36427715, 0.479158  , 0.6       , 0.58278143,\n",
      "       0.40122998, 0.42693365, 0.479158  , 0.42966998, 0.23762377,\n",
      "       0.7381234 , 0.42693365, 0.7085218 , 0.23611817, 0.23611817,\n",
      "       0.5386392 , 0.29411766, 0.23762377, 0.42942113, 0.48706314,\n",
      "       0.7085218 , 0.23076923, 0.23611817, 0.3826962 , 0.7085218 ,\n",
      "       0.29447854, 0.55      ], dtype=float32)>}, <tf.Tensor: shape=(32,), dtype=int32, numpy=\n",
      "array([0, 0, 0, 0, 0, 0, 0, 0, 0, 1, 0, 1, 0, 0, 0, 0, 0, 0, 0, 0, 0, 0,\n",
      "       1, 0, 1, 0, 0, 1, 0, 0, 1, 1], dtype=int32)>)\n"
     ]
    }
   ],
   "source": [
    "#train_data.take(1)\n",
    "for elem in train_data.take(1):\n",
    "    print(elem)"
   ]
  },
  {
   "cell_type": "code",
   "execution_count": 90,
   "metadata": {},
   "outputs": [],
   "source": [
    "import tensorflow as tf\n",
    "from transformers import TFLongformerModel, TFLongformerForSequenceClassification\n",
    "from transformers import LongformerTokenizer"
   ]
  },
  {
   "cell_type": "code",
   "execution_count": 55,
   "metadata": {},
   "outputs": [
    {
     "name": "stderr",
     "output_type": "stream",
     "text": [
      "Some layers from the model checkpoint at allenai/longformer-base-4096 were not used when initializing TFLongformerForSequenceClassification: ['lm_head']\n",
      "- This IS expected if you are initializing TFLongformerForSequenceClassification from the checkpoint of a model trained on another task or with another architecture (e.g. initializing a BertForSequenceClassification model from a BertForPreTraining model).\n",
      "- This IS NOT expected if you are initializing TFLongformerForSequenceClassification from the checkpoint of a model that you expect to be exactly identical (initializing a BertForSequenceClassification model from a BertForSequenceClassification model).\n",
      "Some layers of TFLongformerForSequenceClassification were not initialized from the model checkpoint at allenai/longformer-base-4096 and are newly initialized: ['classifier']\n",
      "You should probably TRAIN this model on a down-stream task to be able to use it for predictions and inference.\n"
     ]
    }
   ],
   "source": [
    "model = TFLongformerForSequenceClassification.from_pretrained(\"allenai/longformer-base-4096\")\n",
    "tokenizer = LongformerTokenizer.from_pretrained('allenai/longformer-base-4096')"
   ]
  },
  {
   "cell_type": "code",
   "execution_count": 169,
   "metadata": {},
   "outputs": [
    {
     "name": "stdout",
     "output_type": "stream",
     "text": [
      "dict_keys(['input_ids', 'partisan_lean'])\n"
     ]
    }
   ],
   "source": [
    "# Docs for tokenizer call:\n",
    "# https://huggingface.co/transformers/main_classes/tokenizer.html#transformers.PreTrainedTokenizer\n",
    "temp = tokenizer(\"Hello, my dog is cute\", return_tensors=\"tf\", padding='max_length', max_length=max_length)\n",
    "inputs ={}\n",
    "inputs['input_ids'] = temp['input_ids']\n",
    "#inputs[\"labels\"] = tf.reshape(tf.constant(1), (-1, 1)) # Batch size 1\n",
    "inputs[\"partisan_lean\"] =tf.expand_dims(tf.convert_to_tensor(0.60, dtype='float32', name='partisan_lean'), axis=0)\n",
    "print(inputs.keys())"
   ]
  },
  {
   "cell_type": "code",
   "execution_count": 170,
   "metadata": {},
   "outputs": [
    {
     "data": {
      "text/plain": [
       "<tf.Tensor: shape=(1,), dtype=float32, numpy=array([0.6], dtype=float32)>"
      ]
     },
     "execution_count": 170,
     "metadata": {},
     "output_type": "execute_result"
    }
   ],
   "source": [
    "inputs['partisan_lean']"
   ]
  },
  {
   "cell_type": "code",
   "execution_count": 171,
   "metadata": {},
   "outputs": [
    {
     "name": "stdout",
     "output_type": "stream",
     "text": [
      "Model: \"model_14\"\n",
      "__________________________________________________________________________________________________\n",
      "Layer (type)                    Output Shape         Param #     Connected to                     \n",
      "==================================================================================================\n",
      "input_ids (InputLayer)          [(None, 128)]        0                                            \n",
      "__________________________________________________________________________________________________\n",
      "longformer (TFLongformerMainLay multiple             148068864   input_ids[0][0]                  \n",
      "__________________________________________________________________________________________________\n",
      "tf.__operators__.getitem_11 (Sl (None, 768)          0           longformer[16][0]                \n",
      "__________________________________________________________________________________________________\n",
      "dropout_709 (Dropout)           (None, 768)          0           tf.__operators__.getitem_11[0][0]\n",
      "__________________________________________________________________________________________________\n",
      "partisan_lean (InputLayer)      [(None, 1)]          0                                            \n",
      "__________________________________________________________________________________________________\n",
      "tf.concat_10 (TFOpLambda)       (None, 769)          0           dropout_709[0][0]                \n",
      "                                                                 partisan_lean[0][0]              \n",
      "__________________________________________________________________________________________________\n",
      "dense_14 (Dense)                (None, 700)          539000      tf.concat_10[0][0]               \n",
      "__________________________________________________________________________________________________\n",
      "dropout_710 (Dropout)           (None, 700)          0           dense_14[0][0]                   \n",
      "__________________________________________________________________________________________________\n",
      "dense_15 (Dense)                (None, 1)            701         dropout_710[0][0]                \n",
      "==================================================================================================\n",
      "Total params: 148,608,565\n",
      "Trainable params: 148,608,565\n",
      "Non-trainable params: 0\n",
      "__________________________________________________________________________________________________\n",
      "None\n"
     ]
    }
   ],
   "source": [
    "ids = tf.keras.Input((max_length), dtype=tf.int32, name='input_ids')\n",
    "pl = tf.keras.Input((1, ), dtype=tf.float32, name='partisan_lean')\n",
    "x = model.longformer(ids)\n",
    "x = x['last_hidden_state'][:,0,:]\n",
    "x = tf.keras.layers.Dropout(0.2)(x)\n",
    "x = tf.concat([x, pl], axis=-1)\n",
    "x = tf.keras.layers.Dense(700, activation='relu')(x)\n",
    "x = tf.keras.layers.Dropout(0.2)(x)\n",
    "x = tf.keras.layers.Dense(1, activation='sigmoid')(x)\n",
    "dl_model = tf.keras.Model(inputs={\"input_ids\":ids,\"partisan_lean\":pl}, outputs=[x])\n",
    "\n",
    "print(dl_model.summary())\n",
    "a  = dl_model(inputs)\n"
   ]
  },
  {
   "cell_type": "code",
   "execution_count": 172,
   "metadata": {},
   "outputs": [],
   "source": [
    "dl_model.compile(optimizer=tf.keras.optimizers.Adam(learning_rate=1e-5),\n",
    "          loss = tf.keras.losses.BinaryCrossentropy(),\n",
    "          metrics = [tf.keras.metrics.BinaryAccuracy()])"
   ]
  },
  {
   "cell_type": "code",
   "execution_count": null,
   "metadata": {},
   "outputs": [],
   "source": [
    "history = dl_model.fit(train_data,\n",
    "                      validation_data=val_data,\n",
    "                      epochs=1,\n",
    "                      verbose=1)"
   ]
  },
  {
   "cell_type": "code",
   "execution_count": 62,
   "metadata": {},
   "outputs": [
    {
     "data": {
      "text/plain": [
       "TensorShape([1, 32, 768])"
      ]
     },
     "execution_count": 62,
     "metadata": {},
     "output_type": "execute_result"
    }
   ],
   "source": []
  },
  {
   "cell_type": "code",
   "execution_count": 28,
   "metadata": {},
   "outputs": [],
   "source": [
    "import os\n",
    "import sys\n",
    "module_path = os.path.abspath(os.path.join('..'))\n",
    "if module_path not in sys.path:\n",
    "    sys.path.append(module_path)\n",
    "from src.models.deeplegis import *    \n"
   ]
  },
  {
   "cell_type": "code",
   "execution_count": 33,
   "metadata": {},
   "outputs": [
    {
     "name": "stderr",
     "output_type": "stream",
     "text": [
      "Some layers from the model checkpoint at allenai/longformer-base-4096 were not used when initializing DeepLegis: ['lm_head']\n",
      "- This IS expected if you are initializing DeepLegis from the checkpoint of a model trained on another task or with another architecture (e.g. initializing a BertForSequenceClassification model from a BertForPreTraining model).\n",
      "- This IS NOT expected if you are initializing DeepLegis from the checkpoint of a model that you expect to be exactly identical (initializing a BertForSequenceClassification model from a BertForSequenceClassification model).\n",
      "Some layers of DeepLegis were not initialized from the model checkpoint at allenai/longformer-base-4096 and are newly initialized: ['classifier']\n",
      "You should probably TRAIN this model on a down-stream task to be able to use it for predictions and inference.\n"
     ]
    }
   ],
   "source": []
  },
  {
   "cell_type": "code",
   "execution_count": 43,
   "metadata": {},
   "outputs": [
    {
     "name": "stderr",
     "output_type": "stream",
     "text": [
      "Some layers from the model checkpoint at allenai/longformer-base-4096 were not used when initializing DeepLegis: ['lm_head']\n",
      "- This IS expected if you are initializing DeepLegis from the checkpoint of a model trained on another task or with another architecture (e.g. initializing a BertForSequenceClassification model from a BertForPreTraining model).\n",
      "- This IS NOT expected if you are initializing DeepLegis from the checkpoint of a model that you expect to be exactly identical (initializing a BertForSequenceClassification model from a BertForSequenceClassification model).\n",
      "Some layers of DeepLegis were not initialized from the model checkpoint at allenai/longformer-base-4096 and are newly initialized: ['classifier']\n",
      "You should probably TRAIN this model on a down-stream task to be able to use it for predictions and inference.\n"
     ]
    },
    {
     "name": "stdout",
     "output_type": "stream",
     "text": [
      "dict_keys(['input_ids', 'attention_mask', 'labels', 'partisan_lean'])\n",
      "odict_keys(['loss', 'logits'])\n"
     ]
    }
   ],
   "source": [
    "dl = DeepLegis.from_pretrained(\"allenai/longformer-base-4096\")\n",
    "outputs = dl(inputs)\n",
    "print(inputs.keys())\n",
    "print(outputs.keys())"
   ]
  },
  {
   "cell_type": "code",
   "execution_count": null,
   "metadata": {},
   "outputs": [],
   "source": []
  }
 ],
 "metadata": {
  "kernelspec": {
   "display_name": "govhawk_kernel",
   "language": "python",
   "name": "govhawk_kernel"
  },
  "language_info": {
   "codemirror_mode": {
    "name": "ipython",
    "version": 3
   },
   "file_extension": ".py",
   "mimetype": "text/x-python",
   "name": "python",
   "nbconvert_exporter": "python",
   "pygments_lexer": "ipython3",
   "version": "3.8.5"
  }
 },
 "nbformat": 4,
 "nbformat_minor": 4
}
